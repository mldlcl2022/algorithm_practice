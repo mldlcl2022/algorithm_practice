{
 "cells": [
  {
   "cell_type": "markdown",
   "metadata": {},
   "source": [
    "# 10811번\n",
    "바구니 뒤집기"
   ]
  },
  {
   "cell_type": "code",
   "execution_count": 14,
   "metadata": {},
   "outputs": [
    {
     "name": "stdout",
     "output_type": "stream",
     "text": [
      "3 4 1 2 5 "
     ]
    }
   ],
   "source": [
    "# 총 바구니 수 n, 공을 바꿀 횟수 m 입력\n",
    "n, m = map(int, input().split())\n",
    "\n",
    "# 초기 바구니 설정\n",
    "b = [i+1 for i in range(n)]\n",
    "\n",
    "# 임시 변수\n",
    "temp = []\n",
    "\n",
    "# 공을 바꿀 횟수만큼 반복\n",
    "for _ in range(m) :\n",
    "    # 바꿀 첫 번째 바구니 i, 마지막 바구니 j\n",
    "    i, j = map(int, input().split())\n",
    "    # i ~ j 번째 숫자 임시 저장\n",
    "    temp = b[i-1:j]\n",
    "    # i ~ j 번째 숫자 역순 변환\n",
    "    b[i-1:j] = temp[::-1]\n",
    "\n",
    "# 결과 출력\n",
    "for i in b : print(i, end = ' ')"
   ]
  },
  {
   "cell_type": "markdown",
   "metadata": {},
   "source": [
    "# 1546번\n",
    "평균"
   ]
  },
  {
   "cell_type": "code",
   "execution_count": 39,
   "metadata": {},
   "outputs": [
    {
     "data": {
      "text/plain": [
       "38.75"
      ]
     },
     "execution_count": 39,
     "metadata": {},
     "output_type": "execute_result"
    }
   ],
   "source": [
    "# 과목의 개수 n\n",
    "n = int(input())\n",
    "\n",
    "# 세준이의 실제 성적\n",
    "score = [int(i) for i in input().split()][:n]\n",
    "\n",
    "# 세준이의 최고 점수(최댓값)\n",
    "m = max(score)\n",
    "\n",
    "# 점수 조작 결과\n",
    "print(sum([i/m*100 for i in score])/n)"
   ]
  },
  {
   "cell_type": "markdown",
   "metadata": {},
   "source": [
    "# 27866번\n",
    "문자와 문자열"
   ]
  },
  {
   "cell_type": "code",
   "execution_count": 42,
   "metadata": {},
   "outputs": [
    {
     "data": {
      "text/plain": [
       "'p'"
      ]
     },
     "execution_count": 42,
     "metadata": {},
     "output_type": "execute_result"
    }
   ],
   "source": [
    "# 단어 s\n",
    "s = input()\n",
    "\n",
    "# 정수 i\n",
    "i = int(input())\n",
    "\n",
    "# 단어 s에서 i번째 글자\n",
    "print(s[i-1])"
   ]
  },
  {
   "cell_type": "markdown",
   "metadata": {},
   "source": [
    "# 2743번\n",
    "단어 길이 재기"
   ]
  },
  {
   "cell_type": "code",
   "execution_count": 43,
   "metadata": {},
   "outputs": [
    {
     "data": {
      "text/plain": [
       "8"
      ]
     },
     "execution_count": 43,
     "metadata": {},
     "output_type": "execute_result"
    }
   ],
   "source": [
    "# 단어 입력\n",
    "s = input()\n",
    "\n",
    "# 단어의 길이 출력\n",
    "print(len(s))"
   ]
  },
  {
   "cell_type": "markdown",
   "metadata": {},
   "source": [
    "# 9086번\n",
    "문자열"
   ]
  },
  {
   "cell_type": "code",
   "execution_count": 44,
   "metadata": {},
   "outputs": [
    {
     "name": "stdout",
     "output_type": "stream",
     "text": [
      "AE\n"
     ]
    }
   ],
   "source": [
    "# 테스트 케이스의 개수 t 입력\n",
    "t = int(input())\n",
    "\n",
    "# 테스트 케이스만큼 반복\n",
    "for _ in range(t) :\n",
    "    # 문자열 입력\n",
    "    s = input()\n",
    "    # 문자열의 첫 글자와 마지막 글자 출력\n",
    "    print(s[0]+s[-1])"
   ]
  },
  {
   "cell_type": "markdown",
   "metadata": {},
   "source": [
    "# 11654번\n",
    "아스키 코드"
   ]
  },
  {
   "cell_type": "code",
   "execution_count": 49,
   "metadata": {},
   "outputs": [
    {
     "name": "stdout",
     "output_type": "stream",
     "text": [
      "97\n"
     ]
    }
   ],
   "source": [
    "# 글자 w 입력\n",
    "w = input()\n",
    "\n",
    "# 아스키 코드값 출력\n",
    "print(ord(w))"
   ]
  },
  {
   "cell_type": "markdown",
   "metadata": {},
   "source": [
    "# 11720번\n",
    "숫자의 합"
   ]
  },
  {
   "cell_type": "code",
   "execution_count": 61,
   "metadata": {},
   "outputs": [
    {
     "data": {
      "text/plain": [
       "7"
      ]
     },
     "execution_count": 61,
     "metadata": {},
     "output_type": "execute_result"
    }
   ],
   "source": [
    "# 숫자의 개수 n 입력\n",
    "n = int(input())\n",
    "\n",
    "# n개 숫자의 합 출력\n",
    "print(sum([int(i) for i in input()[:n]]))"
   ]
  },
  {
   "cell_type": "markdown",
   "metadata": {},
   "source": [
    "# 10809번\n",
    "알파벳 찾기"
   ]
  },
  {
   "cell_type": "code",
   "execution_count": 79,
   "metadata": {},
   "outputs": [
    {
     "name": "stdout",
     "output_type": "stream",
     "text": [
      "1 0 -1 -1 2 -1 -1 -1 -1 4 3 -1 -1 7 5 -1 -1 -1 -1 -1 -1 -1 -1 -1 -1 -1 "
     ]
    }
   ],
   "source": [
    "# 단어 s 입력\n",
    "s = input()\n",
    "\n",
    "# 알파벳 전체 반복\n",
    "for i in [chr(j) for j in range(97,123)] :\n",
    "    # 알파벳이 입력한 단어 s에 있다면 위치 출력\n",
    "    try : print(s.index(i), end = ' ')\n",
    "    # 알파벳이 입력한 단어 s에 없다면 -1 출력\n",
    "    except : print(-1, end = ' ')"
   ]
  },
  {
   "cell_type": "markdown",
   "metadata": {},
   "source": [
    "# 2675번\n",
    "문자열 반복"
   ]
  },
  {
   "cell_type": "code",
   "execution_count": 92,
   "metadata": {},
   "outputs": [
    {
     "name": "stdout",
     "output_type": "stream",
     "text": [
      "AAABBBCCC\n"
     ]
    }
   ],
   "source": [
    "# 테스트 케이스의 개수 t 입력\n",
    "t = int(input())\n",
    "\n",
    "# 테스트 케이스만큼 반복\n",
    "for _ in range(t) :\n",
    "    # 반복 횟수 r, 반복할 문자열 s 입력\n",
    "    r, s = input().split()\n",
    "    # 반복한 새로운 문자열 출력\n",
    "    print(''.join([i*int(r) for i in s[:20]]))"
   ]
  },
  {
   "cell_type": "markdown",
   "metadata": {},
   "source": [
    "# 1152번\n",
    "단어의 개수"
   ]
  },
  {
   "cell_type": "code",
   "execution_count": 94,
   "metadata": {},
   "outputs": [
    {
     "data": {
      "text/plain": [
       "6"
      ]
     },
     "execution_count": 94,
     "metadata": {},
     "output_type": "execute_result"
    }
   ],
   "source": [
    "# 문자열 s 입력\n",
    "s = input()\n",
    "\n",
    "# 단어의 개수 출력\n",
    "print(len(s.split()))"
   ]
  },
  {
   "cell_type": "markdown",
   "metadata": {},
   "source": [
    "# 2908번\n",
    "상수"
   ]
  },
  {
   "cell_type": "code",
   "execution_count": 95,
   "metadata": {},
   "outputs": [
    {
     "data": {
      "text/plain": [
       "437"
      ]
     },
     "execution_count": 95,
     "metadata": {},
     "output_type": "execute_result"
    }
   ],
   "source": [
    "# 두 수 a, b 입력\n",
    "a, b = input().split()\n",
    "\n",
    "# 상수 기준 큰 수\n",
    "print(max(int(a[::-1]), int(b[::-1])))"
   ]
  },
  {
   "cell_type": "markdown",
   "metadata": {},
   "source": [
    "# 5622번\n",
    "다이얼"
   ]
  },
  {
   "cell_type": "code",
   "execution_count": 103,
   "metadata": {},
   "outputs": [
    {
     "name": "stdout",
     "output_type": "stream",
     "text": [
      "36\n"
     ]
    }
   ],
   "source": [
    "# 단어 s 입력\n",
    "s = input()\n",
    "\n",
    "# 시간 계산을 위한 리스트 생성\n",
    "l = []\n",
    "\n",
    "# 단어 s의 글자마다 반복\n",
    "for i in s :\n",
    "    # 글자가 ABC 중 하나면 2 + 1(1초씩 더 걸리기 때문)\n",
    "    if i in 'ABC' : l.append(2+1)\n",
    "    # 글자가 DEF 중 하나면 3 + 1\n",
    "    elif i in 'DEF' : l.append(3+1)\n",
    "    # 글자가 GHI 중 하나면 4 + 1\n",
    "    elif i in 'GHI' : l.append(4+1)\n",
    "    # 글자가 JKL 중 하나면 5 + 1\n",
    "    elif i in 'JKL' : l.append(5+1)\n",
    "    # 글자가 MNO 중 하나면 6 + 1\n",
    "    elif i in 'MNO' : l.append(6+1)\n",
    "    # 글자가 PQRS 중 하나면 7 + 1\n",
    "    elif i in 'PQRS' : l.append(7+1)\n",
    "    # 글자가 TUV 중 하나면 8 + 1\n",
    "    elif i in 'TUV' : l.append(8+1)\n",
    "    # 글자가 WXYZ 중 하나면 9 + 1\n",
    "    elif i in 'WXYZ' : l.append(9+1)\n",
    "\n",
    "# 최소 시간 출력\n",
    "print(sum(l))"
   ]
  },
  {
   "cell_type": "markdown",
   "metadata": {},
   "source": [
    "# 11718번\n",
    "그대로 출력하기"
   ]
  },
  {
   "cell_type": "code",
   "execution_count": 2,
   "metadata": {},
   "outputs": [
    {
     "name": "stdout",
     "output_type": "stream",
     "text": [
      "hello\n",
      "baekjoon\n",
      "oline judge\n"
     ]
    }
   ],
   "source": [
    "# 무한 루프\n",
    "while True :\n",
    "    # 단어 입력\n",
    "    s = input()\n",
    "    # 단어 그대로 출력\n",
    "    if s != '' : print(s)\n",
    "    # 입력값이 없을 경우 무한 루프 종료\n",
    "    else : break"
   ]
  },
  {
   "cell_type": "code",
   "execution_count": 1,
   "metadata": {},
   "outputs": [
    {
     "name": "stdout",
     "output_type": "stream",
     "text": [
      "h\n",
      "\n"
     ]
    }
   ],
   "source": [
    "# 무한 루프\n",
    "while True :\n",
    "    # 입력한 단어가 있다면 출력\n",
    "    try : print(input())\n",
    "    # 입력한 단어가 없다면 종료\n",
    "    except EOFError : break"
   ]
  }
 ],
 "metadata": {
  "kernelspec": {
   "display_name": "edu",
   "language": "python",
   "name": "python3"
  },
  "language_info": {
   "codemirror_mode": {
    "name": "ipython",
    "version": 3
   },
   "file_extension": ".py",
   "mimetype": "text/x-python",
   "name": "python",
   "nbconvert_exporter": "python",
   "pygments_lexer": "ipython3",
   "version": "3.12.0"
  }
 },
 "nbformat": 4,
 "nbformat_minor": 2
}
