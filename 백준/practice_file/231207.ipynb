{
 "cells": [
  {
   "cell_type": "markdown",
   "metadata": {},
   "source": [
    "# 10807번\n",
    "개수 세기"
   ]
  },
  {
   "cell_type": "code",
   "execution_count": 1,
   "metadata": {},
   "outputs": [
    {
     "name": "stdout",
     "output_type": "stream",
     "text": [
      "0\n"
     ]
    }
   ],
   "source": [
    "# enter n\n",
    "n = int(input())\n",
    "\n",
    "# enter num\n",
    "num = input()\n",
    "\n",
    "# number list\n",
    "num_list = []\n",
    "for i in range(n) :\n",
    "    num_list.append(int(num.split()[i]))\n",
    "\n",
    "# enter v\n",
    "v = int(input())\n",
    "\n",
    "# result\n",
    "print(num_list.count(v))"
   ]
  },
  {
   "cell_type": "markdown",
   "metadata": {},
   "source": [
    "# 10871번\n",
    "X보다 작은 수"
   ]
  },
  {
   "cell_type": "code",
   "execution_count": 2,
   "metadata": {},
   "outputs": [
    {
     "name": "stdout",
     "output_type": "stream",
     "text": [
      "1 4 2 3 "
     ]
    }
   ],
   "source": [
    "# enter n, x\n",
    "n, x = map(int, input().split())\n",
    "\n",
    "# number list\n",
    "a = list(map(int, input().split()))[:n]\n",
    "\n",
    "# result\n",
    "for i in a :\n",
    "    if i < x : print(i, end=' ')"
   ]
  },
  {
   "cell_type": "markdown",
   "metadata": {},
   "source": [
    "# 10818번\n",
    "최소, 최대"
   ]
  },
  {
   "cell_type": "code",
   "execution_count": 3,
   "metadata": {},
   "outputs": [
    {
     "name": "stdout",
     "output_type": "stream",
     "text": [
      "7 35\n"
     ]
    }
   ],
   "source": [
    "# enter n\n",
    "n = int(input())\n",
    "\n",
    "# number list\n",
    "num_list = list(map(int, input().split()))[:n]\n",
    "\n",
    "# result\n",
    "print(min(num_list), max(num_list))"
   ]
  },
  {
   "cell_type": "markdown",
   "metadata": {},
   "source": [
    "# 2562번\n",
    "최댓값"
   ]
  },
  {
   "cell_type": "code",
   "execution_count": 4,
   "metadata": {},
   "outputs": [
    {
     "name": "stdout",
     "output_type": "stream",
     "text": [
      "85\n",
      "8\n"
     ]
    }
   ],
   "source": [
    "# enter number list\n",
    "num_list = []\n",
    "for i in range(9) :\n",
    "    num_list.append(int(input()))\n",
    "\n",
    "# result\n",
    "print(max(num_list))\n",
    "print(num_list.index(max(num_list))+1)"
   ]
  },
  {
   "cell_type": "markdown",
   "metadata": {},
   "source": [
    "# 10810번\n",
    "공 넣기"
   ]
  },
  {
   "cell_type": "code",
   "execution_count": 5,
   "metadata": {},
   "outputs": [
    {
     "name": "stdout",
     "output_type": "stream",
     "text": [
      "1 2 1 1 0 "
     ]
    }
   ],
   "source": [
    "# 총 바구니 수 n, 공을 넣을 횟수 m 입력\n",
    "n, m = map(int, input().split())\n",
    "\n",
    "# 초기 바구니 설정\n",
    "b = [0 for _ in range(n)]\n",
    "\n",
    "# 공을 넣을 횟수만큼 반복\n",
    "for _ in range(m) :\n",
    "    # 시작 바구니 i, 마지막 바구니 j, 넣을 공의 번호 k 입력\n",
    "    i, j, k = map(int, input().split())\n",
    "    # 시작 바구니부터 마지막 바구니까지 k번 공 넣기\n",
    "    for l in range(i, j+1) :\n",
    "        b[l-1] = k\n",
    "\n",
    "# 1번 바구니부터 n번 바구니까지 들어있는 공의 번호 출력\n",
    "for i in range(n) :\n",
    "    print(b[i], end= ' ')"
   ]
  },
  {
   "cell_type": "markdown",
   "metadata": {},
   "source": [
    "# 10813번\n",
    "공 바꾸기"
   ]
  },
  {
   "cell_type": "code",
   "execution_count": 6,
   "metadata": {},
   "outputs": [
    {
     "name": "stdout",
     "output_type": "stream",
     "text": [
      "3 1 4 2 5 "
     ]
    }
   ],
   "source": [
    "# 총 바구니 수 n, 공을 바꿀 횟수 m 입력\n",
    "n, m = map(int, input().split())\n",
    "\n",
    "# 초기 바구니 설정\n",
    "b = [i+1 for i in range(n)]\n",
    "\n",
    "# 임시 변수\n",
    "temp = 0\n",
    "\n",
    "# 공을 바꿀 횟수만큼 반복\n",
    "for _ in range(m) :\n",
    "    # 바꿀 바구니 번호 1, 바꿀 바구니 번호 2\n",
    "    i, j = map(int, input().split())\n",
    "    # 임시 변수에 첫 번째 바구니 값 임시 저장\n",
    "    temp = b[i-1]\n",
    "    # 첫 번째 바구니 값을 두 번째 바구니 값으로 변경\n",
    "    b[i-1] = b[j-1]\n",
    "    # 두 번째 바구니 값을 임시 저장한 첫 번째 바구니 값으로 변경\n",
    "    b[j-1] = temp\n",
    "\n",
    "# 결과 확인\n",
    "for num in b :\n",
    "    print(num, end = ' ')"
   ]
  },
  {
   "cell_type": "markdown",
   "metadata": {},
   "source": [
    "# 5597번\n",
    "과제 안 내신 분..?"
   ]
  },
  {
   "cell_type": "code",
   "execution_count": 8,
   "metadata": {},
   "outputs": [
    {
     "name": "stdout",
     "output_type": "stream",
     "text": [
      "2\n",
      "8\n"
     ]
    }
   ],
   "source": [
    "# 과제 제출 확인을 위한 리스트 선언\n",
    "s = []\n",
    "\n",
    "# 과제 제출 학생 기록\n",
    "for i in range(28) : s.append(int(input()))\n",
    "\n",
    "# 과제 미제출자 출력\n",
    "for i in sorted([i for i in range(1,31,1) if i not in s]) : print(i)"
   ]
  },
  {
   "cell_type": "markdown",
   "metadata": {},
   "source": [
    "# 3052번\n",
    "나머지"
   ]
  },
  {
   "cell_type": "code",
   "execution_count": 9,
   "metadata": {},
   "outputs": [
    {
     "name": "stdout",
     "output_type": "stream",
     "text": [
      "6\n"
     ]
    }
   ],
   "source": [
    "# 입력받을 초기 리스트 생성\n",
    "num_list = []\n",
    "\n",
    "# 나머지를 구할 값 입력\n",
    "for _ in range(10) :\n",
    "    num_list.append(int(input()))\n",
    "\n",
    "# 42로 나눈 나머지로 다시 저장\n",
    "for i, num in enumerate(num_list) :\n",
    "    num_list[i] = num%42\n",
    "\n",
    "# 입력받은 값을 42로 나눈 나머지들의 서로 다른 값 개수\n",
    "print(len(set(num_list)))"
   ]
  }
 ],
 "metadata": {
  "kernelspec": {
   "display_name": "edu",
   "language": "python",
   "name": "python3"
  },
  "language_info": {
   "codemirror_mode": {
    "name": "ipython",
    "version": 3
   },
   "file_extension": ".py",
   "mimetype": "text/x-python",
   "name": "python",
   "nbconvert_exporter": "python",
   "pygments_lexer": "ipython3",
   "version": "3.12.0"
  }
 },
 "nbformat": 4,
 "nbformat_minor": 2
}
