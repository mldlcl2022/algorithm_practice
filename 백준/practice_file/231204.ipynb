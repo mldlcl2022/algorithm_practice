{
 "cells": [
  {
   "cell_type": "markdown",
   "metadata": {},
   "source": [
    "# 2557번\n",
    "Hello World"
   ]
  },
  {
   "cell_type": "code",
   "execution_count": 1,
   "metadata": {},
   "outputs": [
    {
     "name": "stdout",
     "output_type": "stream",
     "text": [
      "Hello World!\n"
     ]
    }
   ],
   "source": [
    "print('Hello World!')"
   ]
  },
  {
   "cell_type": "markdown",
   "metadata": {},
   "source": [
    "# 1000번\n",
    "A+B"
   ]
  },
  {
   "cell_type": "code",
   "execution_count": 2,
   "metadata": {},
   "outputs": [
    {
     "name": "stdout",
     "output_type": "stream",
     "text": [
      "3\n"
     ]
    }
   ],
   "source": [
    "# enter a, b\n",
    "a, b = map(int, input().split())\n",
    "\n",
    "# result\n",
    "print(a+b)"
   ]
  },
  {
   "cell_type": "markdown",
   "metadata": {},
   "source": [
    "# 1001번\n",
    "A-B"
   ]
  },
  {
   "cell_type": "code",
   "execution_count": 3,
   "metadata": {},
   "outputs": [
    {
     "name": "stdout",
     "output_type": "stream",
     "text": [
      "1\n"
     ]
    }
   ],
   "source": [
    "# enter a, b\n",
    "a, b = map(int, input().split())\n",
    "\n",
    "# result\n",
    "print(a-b)"
   ]
  },
  {
   "cell_type": "markdown",
   "metadata": {},
   "source": [
    "# 10998번\n",
    "AxB"
   ]
  },
  {
   "cell_type": "code",
   "execution_count": 4,
   "metadata": {},
   "outputs": [
    {
     "name": "stdout",
     "output_type": "stream",
     "text": [
      "2\n"
     ]
    }
   ],
   "source": [
    "# enter a, b\n",
    "a, b = map(int, input().split())\n",
    "\n",
    "# result\n",
    "print(a*b)"
   ]
  },
  {
   "cell_type": "markdown",
   "metadata": {},
   "source": [
    "# 1008번\n",
    "A/B"
   ]
  },
  {
   "cell_type": "code",
   "execution_count": 5,
   "metadata": {},
   "outputs": [
    {
     "name": "stdout",
     "output_type": "stream",
     "text": [
      "0.3333333333333333\n"
     ]
    }
   ],
   "source": [
    "# enter a, b\n",
    "a, b = map(int, input().split())\n",
    "\n",
    "# result\n",
    "print(a/b)"
   ]
  },
  {
   "cell_type": "markdown",
   "metadata": {},
   "source": [
    "# 10869번\n",
    "사칙연산"
   ]
  },
  {
   "cell_type": "code",
   "execution_count": 6,
   "metadata": {},
   "outputs": [
    {
     "name": "stdout",
     "output_type": "stream",
     "text": [
      "10\n",
      "4\n",
      "21\n",
      "2\n",
      "1\n"
     ]
    }
   ],
   "source": [
    "# enter a, b\n",
    "a, b = map(int, input().split())\n",
    "\n",
    "# results\n",
    "print(a+b)\n",
    "print(a-b)\n",
    "print(a*b)\n",
    "print(a//b)\n",
    "print(a%b)"
   ]
  },
  {
   "cell_type": "markdown",
   "metadata": {},
   "source": [
    "# 10926번\n",
    "??!"
   ]
  },
  {
   "cell_type": "code",
   "execution_count": 7,
   "metadata": {},
   "outputs": [
    {
     "name": "stdout",
     "output_type": "stream",
     "text": [
      "mldlcl2022??!\n"
     ]
    }
   ],
   "source": [
    "# enter id\n",
    "id = input()\n",
    "\n",
    "# result\n",
    "print(id+'??!')"
   ]
  },
  {
   "cell_type": "markdown",
   "metadata": {},
   "source": [
    "# 18108번\n",
    "1998년생인 내가 태국에서는 2541년생?!"
   ]
  },
  {
   "cell_type": "code",
   "execution_count": 8,
   "metadata": {},
   "outputs": [
    {
     "name": "stdout",
     "output_type": "stream",
     "text": [
      "1998\n"
     ]
    }
   ],
   "source": [
    "# enter year\n",
    "y = int(input())\n",
    "\n",
    "# result\n",
    "print(y-543)"
   ]
  },
  {
   "cell_type": "markdown",
   "metadata": {},
   "source": [
    "# 10430번\n",
    "나머지"
   ]
  },
  {
   "cell_type": "code",
   "execution_count": 9,
   "metadata": {},
   "outputs": [
    {
     "name": "stdout",
     "output_type": "stream",
     "text": [
      "1\n",
      "1\n",
      "0\n",
      "0\n"
     ]
    }
   ],
   "source": [
    "# enter a, b, c\n",
    "A, B, C = map(int, input().split())\n",
    "\n",
    "# results\n",
    "print((A+B)%C)\n",
    "print(((A%C)+(B%C))%C)\n",
    "print((A*B)%C)\n",
    "print(((A%C)*(B%C))%C)"
   ]
  },
  {
   "cell_type": "markdown",
   "metadata": {},
   "source": [
    "# 2588번\n",
    "곱셈"
   ]
  },
  {
   "cell_type": "code",
   "execution_count": 10,
   "metadata": {},
   "outputs": [
    {
     "name": "stdout",
     "output_type": "stream",
     "text": [
      "2360\n",
      "3776\n",
      "1416\n",
      "181720\n"
     ]
    }
   ],
   "source": [
    "# enter numbers\n",
    "num1 = int(input())\n",
    "num2 = int(input())\n",
    "\n",
    "# result\n",
    "print(num1*(int(str(num2)[-1])))\n",
    "print(num1*(int(str(num2)[-2])))\n",
    "print(num1*(int(str(num2)[0])))\n",
    "print(num1*num2)"
   ]
  },
  {
   "cell_type": "markdown",
   "metadata": {},
   "source": [
    "# 11382번\n",
    "꼬마 정민"
   ]
  },
  {
   "cell_type": "code",
   "execution_count": 11,
   "metadata": {},
   "outputs": [
    {
     "name": "stdout",
     "output_type": "stream",
     "text": [
      "7931\n"
     ]
    }
   ],
   "source": [
    "# enter numbers\n",
    "a, b, c = map(int, input().split())\n",
    "\n",
    "# result\n",
    "print(a+b+c)"
   ]
  },
  {
   "cell_type": "markdown",
   "metadata": {},
   "source": [
    "# 10171번\n",
    "고양이"
   ]
  },
  {
   "cell_type": "code",
   "execution_count": 12,
   "metadata": {},
   "outputs": [
    {
     "name": "stdout",
     "output_type": "stream",
     "text": [
      "\\    /\\\n",
      " )  ( ')\n",
      "(  /  )\n",
      " \\(__)|\n"
     ]
    }
   ],
   "source": [
    "# result\n",
    "print(\"\\\\    /\\\\\")\n",
    "print(\" )  ( ')\")\n",
    "print(\"(  /  )\")\n",
    "print(\" \\\\(__)|\")"
   ]
  },
  {
   "cell_type": "markdown",
   "metadata": {},
   "source": [
    "# 10172번\n",
    "개"
   ]
  },
  {
   "cell_type": "code",
   "execution_count": 13,
   "metadata": {},
   "outputs": [
    {
     "name": "stdout",
     "output_type": "stream",
     "text": [
      "|\\_/|\n",
      "|q p|   /}\n",
      "( 0 )\"\"\"\\\n",
      "|\"^\"`    |\n",
      "||_/=\\\\__|\n"
     ]
    },
    {
     "name": "stderr",
     "output_type": "stream",
     "text": [
      "<>:2: SyntaxWarning: invalid escape sequence '\\_'\n",
      "<>:6: SyntaxWarning: invalid escape sequence '\\_'\n",
      "<>:2: SyntaxWarning: invalid escape sequence '\\_'\n",
      "<>:6: SyntaxWarning: invalid escape sequence '\\_'\n",
      "C:\\Users\\chan\\AppData\\Local\\Temp\\ipykernel_6580\\2473079143.py:2: SyntaxWarning: invalid escape sequence '\\_'\n",
      "  print(\"|\\_/|\")\n",
      "C:\\Users\\chan\\AppData\\Local\\Temp\\ipykernel_6580\\2473079143.py:6: SyntaxWarning: invalid escape sequence '\\_'\n",
      "  print(\"||_/=\\\\\\__|\")\n"
     ]
    }
   ],
   "source": [
    "# result\n",
    "print(\"|\\_/|\")\n",
    "print(\"|q p|   /}\")\n",
    "print(\"( 0 )\\\"\\\"\\\"\\\\\")\n",
    "print(\"|\\\"^\\\"`    |\")\n",
    "print(\"||_/=\\\\\\__|\")"
   ]
  },
  {
   "cell_type": "code",
   "execution_count": null,
   "metadata": {},
   "outputs": [],
   "source": []
  }
 ],
 "metadata": {
  "kernelspec": {
   "display_name": "edu",
   "language": "python",
   "name": "python3"
  },
  "language_info": {
   "codemirror_mode": {
    "name": "ipython",
    "version": 3
   },
   "file_extension": ".py",
   "mimetype": "text/x-python",
   "name": "python",
   "nbconvert_exporter": "python",
   "pygments_lexer": "ipython3",
   "version": "3.12.0"
  }
 },
 "nbformat": 4,
 "nbformat_minor": 2
}
