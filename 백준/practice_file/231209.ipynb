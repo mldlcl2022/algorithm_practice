{
 "cells": [
  {
   "cell_type": "markdown",
   "id": "016f6ad0-0425-43a2-af53-8547d036075c",
   "metadata": {},
   "source": [
    "# 25083번\n",
    "새싹"
   ]
  },
  {
   "cell_type": "code",
   "execution_count": 2,
   "id": "1afec06e-773f-4c8d-ae1f-9960b84d76b1",
   "metadata": {
    "tags": []
   },
   "outputs": [
    {
     "name": "stdout",
     "output_type": "stream",
     "text": [
      "         ,r'\"7\n",
      "r`-_   ,'  ,/\n",
      " \\. \". L_r'\n",
      "   `~\\/\n",
      "      |\n",
      "      |\n"
     ]
    }
   ],
   "source": [
    "print('         ,r\\'\"7')\n",
    "print('r`-_   ,\\'  ,/')\n",
    "print(' \\. \". L_r\\'')\n",
    "print('   `~\\/')\n",
    "print('      |')\n",
    "print('      |')"
   ]
  },
  {
   "cell_type": "markdown",
   "id": "b2c50443-c9bc-4d22-a5b0-fb9e38aa3b0b",
   "metadata": {},
   "source": [
    "# 3003번\n",
    "킹, 퀸, 룩, 비숍, 나이트, 폰"
   ]
  },
  {
   "cell_type": "code",
   "execution_count": 11,
   "id": "60d78349-a968-4d9b-b0f2-ad24057d4439",
   "metadata": {
    "tags": []
   },
   "outputs": [
    {
     "name": "stdin",
     "output_type": "stream",
     "text": [
      " 2 1 2 1 2 1\n"
     ]
    },
    {
     "name": "stdout",
     "output_type": "stream",
     "text": [
      "[-1, 0, 0, 1, 0, 7]\n"
     ]
    }
   ],
   "source": [
    " # 각 말의 개수 입력\n",
    "c = [int(i) for i in input().split()]\n",
    "\n",
    "# 체스 말의 개수\n",
    "chess = [1, 1, 2, 2, 2, 8]\n",
    "\n",
    "# 말 개수 계산\n",
    "print([chess[i] - c[i] for i in range(6)])"
   ]
  },
  {
   "cell_type": "code",
   "execution_count": 12,
   "id": "e9940a2b-443f-4b1a-b61e-8d0cefa66f33",
   "metadata": {
    "tags": []
   },
   "outputs": [
    {
     "name": "stdin",
     "output_type": "stream",
     "text": [
      " 2 1 2 1 2 1\n"
     ]
    },
    {
     "name": "stdout",
     "output_type": "stream",
     "text": [
      "-1 0 0 1 0 7 "
     ]
    }
   ],
   "source": [
    " # 각 말의 개수 입력\n",
    "c = [int(i) for i in input().split()]\n",
    "\n",
    "# 체스 말의 개수\n",
    "chess = [1, 1, 2, 2, 2, 8]\n",
    "\n",
    "# 말 개수 계산\n",
    "for n in [chess[i] - c[i] for i in range(6)] : print(n, end = ' ')"
   ]
  }
 ],
 "metadata": {
  "kernelspec": {
   "display_name": "Python 3 (ipykernel)",
   "language": "python",
   "name": "python3"
  },
  "language_info": {
   "codemirror_mode": {
    "name": "ipython",
    "version": 3
   },
   "file_extension": ".py",
   "mimetype": "text/x-python",
   "name": "python",
   "nbconvert_exporter": "python",
   "pygments_lexer": "ipython3",
   "version": "3.11.5"
  }
 },
 "nbformat": 4,
 "nbformat_minor": 5
}
