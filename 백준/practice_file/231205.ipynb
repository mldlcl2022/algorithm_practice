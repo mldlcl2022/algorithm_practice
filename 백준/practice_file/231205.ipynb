{
 "cells": [
  {
   "cell_type": "markdown",
   "metadata": {},
   "source": [
    "# 1330번\n",
    "두 수 비교하기"
   ]
  },
  {
   "cell_type": "code",
   "execution_count": 1,
   "metadata": {},
   "outputs": [
    {
     "name": "stdout",
     "output_type": "stream",
     "text": [
      "==\n"
     ]
    }
   ],
   "source": [
    "# enter a, b\n",
    "a, b = map(int, input().split())\n",
    "\n",
    "# result\n",
    "if   a > b  : print('>')\n",
    "elif a < b  : print('<')\n",
    "elif a == b : print('==')"
   ]
  },
  {
   "cell_type": "markdown",
   "metadata": {},
   "source": [
    "# 9498번\n",
    "시험 성적"
   ]
  },
  {
   "cell_type": "code",
   "execution_count": 2,
   "metadata": {},
   "outputs": [
    {
     "name": "stdout",
     "output_type": "stream",
     "text": [
      "A\n"
     ]
    }
   ],
   "source": [
    "# enter score\n",
    "score = int(input())\n",
    "\n",
    "# result\n",
    "if   score >= 90 : print('A')\n",
    "elif score >= 80 : print('B')\n",
    "elif score >= 70 : print('C')\n",
    "elif score >= 60 : print('D')\n",
    "else : print('F')"
   ]
  },
  {
   "cell_type": "markdown",
   "metadata": {},
   "source": [
    "# 2753번\n",
    "윤년"
   ]
  },
  {
   "cell_type": "code",
   "execution_count": 3,
   "metadata": {},
   "outputs": [
    {
     "name": "stdout",
     "output_type": "stream",
     "text": [
      "0\n"
     ]
    }
   ],
   "source": [
    "# enter year\n",
    "y = int(input())\n",
    "\n",
    "# result\n",
    "if (y % 4 == 0) & (y % 100 != 0) | (y % 400 == 0): print(1)\n",
    "else : print(0)"
   ]
  },
  {
   "cell_type": "markdown",
   "metadata": {},
   "source": [
    "# 14681번\n",
    "사분면 고르기"
   ]
  },
  {
   "cell_type": "code",
   "execution_count": 5,
   "metadata": {},
   "outputs": [
    {
     "name": "stdout",
     "output_type": "stream",
     "text": [
      "4\n"
     ]
    }
   ],
   "source": [
    "# enter num\n",
    "x = int(input())\n",
    "y = int(input())\n",
    "\n",
    "# result\n",
    "if x > 0 :\n",
    "    if y > 0 : print(1)\n",
    "    else : print(4)\n",
    "else :\n",
    "    if y > 0 : print(2)\n",
    "    else : print(3)"
   ]
  },
  {
   "cell_type": "markdown",
   "metadata": {},
   "source": [
    "# 2884번\n",
    "알람 시계"
   ]
  },
  {
   "cell_type": "code",
   "execution_count": 6,
   "metadata": {},
   "outputs": [
    {
     "name": "stdout",
     "output_type": "stream",
     "text": [
      "22 55\n"
     ]
    }
   ],
   "source": [
    "# enter hour, minute\n",
    "h, m = map(int, input().split())\n",
    "\n",
    "# result\n",
    "if m > 45 : print(h, m-45)\n",
    "else :\n",
    "    if h == 0 : print(23, m+60-45)\n",
    "    else : print(h-1, m+60-45)"
   ]
  },
  {
   "cell_type": "code",
   "execution_count": 7,
   "metadata": {},
   "outputs": [
    {
     "name": "stdout",
     "output_type": "stream",
     "text": [
      "22 55\n"
     ]
    }
   ],
   "source": [
    "# enter hour, minute\n",
    "h, m = map(int, input().split())\n",
    "\n",
    "# result\n",
    "if m >= 45 : print(h, m-45)\n",
    "else :\n",
    "    if h == 0 : print(23, m+60-45)\n",
    "    else : print(h-1, m+60-45)"
   ]
  },
  {
   "cell_type": "markdown",
   "metadata": {},
   "source": [
    "# 2525번\n",
    "오븐 시계"
   ]
  },
  {
   "cell_type": "code",
   "execution_count": 8,
   "metadata": {},
   "outputs": [
    {
     "name": "stdout",
     "output_type": "stream",
     "text": [
      "0 13\n"
     ]
    }
   ],
   "source": [
    "# enter time\n",
    "a, b = map(int, input().split())\n",
    "c = int(input())\n",
    "\n",
    "# result\n",
    "if b+c < 60 : print(a, b+c)\n",
    "else :\n",
    "    if a+((b+c)//60) < 24 : print(a+((b+c)//60), (b+c)%60)\n",
    "    else : print(a+((b+c)//60)-24, (b+c)%60)"
   ]
  },
  {
   "cell_type": "markdown",
   "metadata": {},
   "source": [
    "# 2480번\n",
    "주사위 세개"
   ]
  },
  {
   "cell_type": "code",
   "execution_count": 9,
   "metadata": {},
   "outputs": [
    {
     "name": "stdout",
     "output_type": "stream",
     "text": [
      "600\n"
     ]
    }
   ],
   "source": [
    "# enter value\n",
    "a, b, c = map(int, input().split())\n",
    "\n",
    "# result\n",
    "if a == b == c : print(10000+(a*1000))\n",
    "elif a != b != c : print(max(a, b, c)*100)\n",
    "else : print(1000+(sorted(list([a, b, c]))[1]*100))\n"
   ]
  },
  {
   "cell_type": "code",
   "execution_count": 10,
   "metadata": {},
   "outputs": [
    {
     "name": "stdout",
     "output_type": "stream",
     "text": [
      "600\n"
     ]
    }
   ],
   "source": [
    "# enter value\n",
    "a, b, c = map(int, input().split())\n",
    "\n",
    "# result\n",
    "if a == b == c : print(10000+(a*1000))\n",
    "elif a != b & b != c & a != c : print(max(a, b, c)*100)\n",
    "else : print(1000+(sorted(list([a, b, c]))[1]*100))"
   ]
  },
  {
   "cell_type": "code",
   "execution_count": 11,
   "metadata": {},
   "outputs": [
    {
     "name": "stdout",
     "output_type": "stream",
     "text": [
      "600\n"
     ]
    }
   ],
   "source": [
    "# enter value\n",
    "a, b, c = map(int, input().split())\n",
    "\n",
    "# result\n",
    "if a == b == c : print(10000+(a*1000))\n",
    "elif a == b or a == c : print(1000+(a*100))\n",
    "elif b == c : print(1000+(b*100))\n",
    "else : print(max(a, b, c)*100)"
   ]
  }
 ],
 "metadata": {
  "kernelspec": {
   "display_name": "edu",
   "language": "python",
   "name": "python3"
  },
  "language_info": {
   "codemirror_mode": {
    "name": "ipython",
    "version": 3
   },
   "file_extension": ".py",
   "mimetype": "text/x-python",
   "name": "python",
   "nbconvert_exporter": "python",
   "pygments_lexer": "ipython3",
   "version": "3.12.0"
  }
 },
 "nbformat": 4,
 "nbformat_minor": 2
}
