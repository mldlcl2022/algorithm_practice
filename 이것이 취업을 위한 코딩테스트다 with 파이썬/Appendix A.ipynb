{
 "cells": [
  {
   "cell_type": "markdown",
   "id": "b399c141-c6d0-4c06-a23d-c4f417cc4eb0",
   "metadata": {},
   "source": [
    "# Part4. 부록"
   ]
  },
  {
   "cell_type": "markdown",
   "id": "4ee1df7e-e170-4b35-a57c-38e984126204",
   "metadata": {},
   "source": [
    "## Appendix A. 코딩 테스트를 위한 파이썬 문법"
   ]
  },
  {
   "cell_type": "markdown",
   "id": "b838bff8-7358-4d82-bb3c-0c3fd2c67305",
   "metadata": {},
   "source": [
    "### 1. 자료형"
   ]
  },
  {
   "cell_type": "markdown",
   "id": "58acd23e-6231-4010-8753-3727e10c292a",
   "metadata": {},
   "source": [
    "#### 수 자료형"
   ]
  },
  {
   "cell_type": "markdown",
   "id": "e37622f1-2aa8-4f7c-b462-df9b9c4c66c2",
   "metadata": {},
   "source": [
    "##### 정수형\n",
    "* 정수를 다루는 자료형이며 정수형에는 양의 정수, 음의 정수, 0이 있다."
   ]
  },
  {
   "cell_type": "code",
   "execution_count": 1,
   "id": "3607fcbf-636e-4e2f-8760-4280f57027aa",
   "metadata": {},
   "outputs": [
    {
     "name": "stdout",
     "output_type": "stream",
     "text": [
      "1000\n"
     ]
    }
   ],
   "source": [
    "# 양의 정수\n",
    "a = 1000\n",
    "print(a)"
   ]
  },
  {
   "cell_type": "code",
   "execution_count": 2,
   "id": "859b8e86-3142-49aa-9067-730620f3b919",
   "metadata": {},
   "outputs": [
    {
     "name": "stdout",
     "output_type": "stream",
     "text": [
      "-7\n"
     ]
    }
   ],
   "source": [
    "# 음의 정수\n",
    "a = -7\n",
    "print(a)"
   ]
  },
  {
   "cell_type": "code",
   "execution_count": 3,
   "id": "30801b76-31c5-4cc6-85dd-7407692f8ee3",
   "metadata": {},
   "outputs": [
    {
     "name": "stdout",
     "output_type": "stream",
     "text": [
      "0\n"
     ]
    }
   ],
   "source": [
    "# 0\n",
    "a = 0\n",
    "print(a)"
   ]
  },
  {
   "cell_type": "markdown",
   "id": "6203caa7-0aa6-4bc1-93f8-23f967a7621c",
   "metadata": {},
   "source": [
    "##### 실수형\n",
    "* 소수점 아래의 데이터를 포함하는 수 자료형으로 소수부가 0이거나, 정수부가 0인 소수는 0을 생략하고 작성할 수 있다.\n",
    "* 파이썬에서는 e나 E를 이용한 지수 표현 방식을 이용할 수 있다."
   ]
  },
  {
   "cell_type": "code",
   "execution_count": 4,
   "id": "819aaab9-a8b4-4664-b9b5-1f4469c96f17",
   "metadata": {},
   "outputs": [
    {
     "name": "stdout",
     "output_type": "stream",
     "text": [
      "157.93\n"
     ]
    }
   ],
   "source": [
    "# 양의 실수\n",
    "a = 157.93\n",
    "print(a)"
   ]
  },
  {
   "cell_type": "code",
   "execution_count": 5,
   "id": "ad15a3fb-1463-4a37-861a-cc309895c5ea",
   "metadata": {},
   "outputs": [
    {
     "name": "stdout",
     "output_type": "stream",
     "text": [
      "-1837.2\n"
     ]
    }
   ],
   "source": [
    "# 음의 실수\n",
    "a = -1837.2\n",
    "print(a)"
   ]
  },
  {
   "cell_type": "code",
   "execution_count": 6,
   "id": "5cad6587-4f10-4b9b-8590-1dd4056f823a",
   "metadata": {},
   "outputs": [
    {
     "name": "stdout",
     "output_type": "stream",
     "text": [
      "5.0\n"
     ]
    }
   ],
   "source": [
    "# 소수부가 0일 때 0을 생략\n",
    "a = 5.\n",
    "print(a)"
   ]
  },
  {
   "cell_type": "code",
   "execution_count": 7,
   "id": "209380d8-751f-4f46-8cba-73df2468f55c",
   "metadata": {},
   "outputs": [
    {
     "name": "stdout",
     "output_type": "stream",
     "text": [
      "-0.7\n"
     ]
    }
   ],
   "source": [
    "# 정수부가 0일 때 0을 생략\n",
    "a = -.7\n",
    "print(a)"
   ]
  },
  {
   "cell_type": "code",
   "execution_count": 8,
   "id": "f935679d-6a02-4883-b0b4-f4c935707aac",
   "metadata": {},
   "outputs": [
    {
     "name": "stdout",
     "output_type": "stream",
     "text": [
      "1000000000.0\n"
     ]
    }
   ],
   "source": [
    "# 10억의 지수 표현 방식\n",
    "a = 1e9\n",
    "print(a)"
   ]
  },
  {
   "cell_type": "code",
   "execution_count": 9,
   "id": "7d51ac5c-32c7-4f6e-82ad-0f6f5c66936b",
   "metadata": {},
   "outputs": [
    {
     "name": "stdout",
     "output_type": "stream",
     "text": [
      "752.5\n"
     ]
    }
   ],
   "source": [
    "# 752.5\n",
    "a = 75.25e1\n",
    "print(a)"
   ]
  },
  {
   "cell_type": "code",
   "execution_count": 10,
   "id": "8f2265c2-a6c5-4f0d-863d-bed589f2cc34",
   "metadata": {},
   "outputs": [
    {
     "name": "stdout",
     "output_type": "stream",
     "text": [
      "3.954\n"
     ]
    }
   ],
   "source": [
    "# 3.954\n",
    "a = 3954e-3\n",
    "print(a)"
   ]
  },
  {
   "cell_type": "markdown",
   "id": "1e10ab5d-d39c-4067-809e-1d9cfe2dc731",
   "metadata": {},
   "source": [
    "* 실수형을 저장하기 위해 4바이트, 혹은 8바이트라는 고정된 크기의 메모리를 할당하며, 이러한 이유로 현대 컴퓨터 시스템은 대체로 실수 정보를 표현하는 정확도에 한계를 가진다.\n",
    "* 컴퓨터가 실수를 정확히 표현하지 못하기 때문에 실수 값을 비교하지 못해서 원하는 결과를 얻지 못할 수 있다. 이럴 때는 Round() 함수를 활용한다."
   ]
  },
  {
   "cell_type": "code",
   "execution_count": 11,
   "id": "0892aa41-622b-4266-a082-7591538fa16e",
   "metadata": {},
   "outputs": [
    {
     "name": "stdout",
     "output_type": "stream",
     "text": [
      "0.8999999999999999\n"
     ]
    }
   ],
   "source": [
    "a = 0.3 + 0.6\n",
    "print(a)"
   ]
  },
  {
   "cell_type": "code",
   "execution_count": 12,
   "id": "7bc83cfb-1211-43a9-9cd4-48830a24b903",
   "metadata": {},
   "outputs": [
    {
     "name": "stdout",
     "output_type": "stream",
     "text": [
      "False\n"
     ]
    }
   ],
   "source": [
    "if a == 0.9 :\n",
    "    print(True)\n",
    "else : print(False)"
   ]
  },
  {
   "cell_type": "code",
   "execution_count": 13,
   "id": "188c9c93-16ab-4e77-b61b-32479a38d528",
   "metadata": {},
   "outputs": [
    {
     "name": "stdout",
     "output_type": "stream",
     "text": [
      "0.9\n"
     ]
    }
   ],
   "source": [
    "a = 0.3 + 0.6\n",
    "print(round(a, 4))"
   ]
  },
  {
   "cell_type": "code",
   "execution_count": 14,
   "id": "705cc750-2dfb-4c76-8ff4-1a100e0c3c14",
   "metadata": {},
   "outputs": [
    {
     "name": "stdout",
     "output_type": "stream",
     "text": [
      "True\n"
     ]
    }
   ],
   "source": [
    "if round(a, 4) == 0.9 :\n",
    "    print(True)\n",
    "else : print(False)"
   ]
  },
  {
   "cell_type": "markdown",
   "id": "e0aa2864-2589-4980-aa13-86e138d481da",
   "metadata": {},
   "source": [
    "##### 수 자료형의 연산"
   ]
  },
  {
   "cell_type": "markdown",
   "id": "ea43f671-b14b-4561-ab0a-4b4be64551c2",
   "metadata": {},
   "source": [
    "* +,-,/,x 등의 기본연산을 지원하며, 나누기 연산자는 결과를 기본적으로 실수형으로 처리한다.\n",
    "* 나누기 연산은 일반적인 /와 몫을 구하는 //, 나머지를 구한 %가 있다."
   ]
  },
  {
   "cell_type": "code",
   "execution_count": 15,
   "id": "e8f5786a-6ab8-453e-b8e9-c986cffdc465",
   "metadata": {},
   "outputs": [],
   "source": [
    "a = 7;b = 3"
   ]
  },
  {
   "cell_type": "code",
   "execution_count": 16,
   "id": "5448a978-847a-49ef-96ab-259b351af73b",
   "metadata": {},
   "outputs": [
    {
     "name": "stdout",
     "output_type": "stream",
     "text": [
      "2.3333333333333335\n"
     ]
    }
   ],
   "source": [
    "# 나누기\n",
    "print(a/b)"
   ]
  },
  {
   "cell_type": "code",
   "execution_count": 17,
   "id": "aec593e6-8718-476b-ba57-3112f538abc1",
   "metadata": {},
   "outputs": [
    {
     "name": "stdout",
     "output_type": "stream",
     "text": [
      "1\n"
     ]
    }
   ],
   "source": [
    "# 나머지\n",
    "print(a%b)"
   ]
  },
  {
   "cell_type": "code",
   "execution_count": 18,
   "id": "5e9dc9fd-5f46-40d8-b1a8-6550d8487bda",
   "metadata": {},
   "outputs": [
    {
     "name": "stdout",
     "output_type": "stream",
     "text": [
      "2\n"
     ]
    }
   ],
   "source": [
    "# 몫\n",
    "print(a//b)"
   ]
  },
  {
   "cell_type": "markdown",
   "id": "32eabf5a-6887-400f-9814-e7d2aecd7458",
   "metadata": {},
   "source": [
    "* 이외에도 거듭제곱 연산(**)이 있다."
   ]
  },
  {
   "cell_type": "code",
   "execution_count": 19,
   "id": "e152855c-adfe-4bcd-a627-7be50c39a029",
   "metadata": {},
   "outputs": [
    {
     "name": "stdout",
     "output_type": "stream",
     "text": [
      "125\n"
     ]
    }
   ],
   "source": [
    "a = 5;b = 3\n",
    "print(a**b)"
   ]
  },
  {
   "cell_type": "markdown",
   "id": "053a28cd-7452-4010-a903-386a1e241481",
   "metadata": {},
   "source": [
    "#### 리스트 자료형\n",
    "* 리스트는 여러 개의 데이터를 연속적으로 담아 처리하기 위해 사용할 수 있다.\n",
    "* 배열(array) 기능을 포함하고 있으며, 여러 메서드(append, remove 등)를 지원한다."
   ]
  },
  {
   "cell_type": "markdown",
   "id": "6ea770a2-9525-4433-88e6-803d544d155b",
   "metadata": {},
   "source": [
    "##### 리스트 만들기\n",
    "* 대괄호([])안에 원소를 넣어 초기화하며, 쉼표(,)로 원소를 구분한다.\n",
    "* 리스트의 원소에 접근할 때는 인덱스(index)값을 괄호 안에 넣는다. 이 때 인덱스는 0부터 시작된다."
   ]
  },
  {
   "cell_type": "code",
   "execution_count": 20,
   "id": "58754381-007b-4821-8b05-dcbbfe89d397",
   "metadata": {},
   "outputs": [
    {
     "name": "stdout",
     "output_type": "stream",
     "text": [
      "[1, 2, 3, 4, 5, 6, 7, 8, 9]\n"
     ]
    }
   ],
   "source": [
    "a = [1,2,3,4,5,6,7,8,9]\n",
    "print(a)"
   ]
  },
  {
   "cell_type": "code",
   "execution_count": 21,
   "id": "580e89d6-f0e4-408e-94b5-da37c9e436f5",
   "metadata": {},
   "outputs": [
    {
     "name": "stdout",
     "output_type": "stream",
     "text": [
      "5\n"
     ]
    }
   ],
   "source": [
    "# 인덱스 4, 즉 다섯 번째 원소에 접근\n",
    "print(a[4])"
   ]
  },
  {
   "cell_type": "code",
   "execution_count": 22,
   "id": "60b1f7e1-9ab3-4421-ae10-5731a38bab87",
   "metadata": {},
   "outputs": [
    {
     "name": "stdout",
     "output_type": "stream",
     "text": [
      "[]\n"
     ]
    }
   ],
   "source": [
    "# 빈 리스트 선언 방법 (1)\n",
    "a = list()\n",
    "print(a)"
   ]
  },
  {
   "cell_type": "code",
   "execution_count": 23,
   "id": "5c148b87-32ae-401b-8cbd-145aea292417",
   "metadata": {},
   "outputs": [
    {
     "name": "stdout",
     "output_type": "stream",
     "text": [
      "[]\n"
     ]
    }
   ],
   "source": [
    "# 빈 리스트 선언 방법 (2)\n",
    "a = []\n",
    "print(a)"
   ]
  },
  {
   "cell_type": "code",
   "execution_count": 24,
   "id": "848aeffa-288b-4a06-b820-d5f1948b2961",
   "metadata": {},
   "outputs": [
    {
     "name": "stdout",
     "output_type": "stream",
     "text": [
      "[0, 0, 0, 0, 0, 0, 0, 0, 0, 0]\n"
     ]
    }
   ],
   "source": [
    "# 크기가 N이고, 모든 값이 0인 1차원 리스트 초기화\n",
    "n = 10\n",
    "a = [0]*n\n",
    "print(a)"
   ]
  },
  {
   "cell_type": "markdown",
   "id": "9a828cc0-3782-4c30-b5cd-5fb205a4cb50",
   "metadata": {},
   "source": [
    "##### 리스트의 인덱싱과 슬라이싱\n",
    "* 인덱스 값을 입력하여 리스트의 특정한 원소에 접근하는 것을 인덱싱(indexing))이라고 한다.\n",
    "* 인덱스 값은 양의 정수와 음의 정수를 모두 사용할 수 있으며, 음의 정수를 넣으면 원소를 거꾸로 탐색하게 된다."
   ]
  },
  {
   "cell_type": "code",
   "execution_count": 25,
   "id": "0d7c6ac7-1959-49f5-8d9a-aba4edf7adc9",
   "metadata": {},
   "outputs": [],
   "source": [
    "a = [1,2,3,4,5,6,7,8,9]"
   ]
  },
  {
   "cell_type": "code",
   "execution_count": 26,
   "id": "98b848d0-5ae0-40ee-b6ee-19ef591c530c",
   "metadata": {},
   "outputs": [
    {
     "name": "stdout",
     "output_type": "stream",
     "text": [
      "9\n"
     ]
    }
   ],
   "source": [
    "# 뒤에서 첫 번째 원소 출력\n",
    "print(a[-1])"
   ]
  },
  {
   "cell_type": "code",
   "execution_count": 27,
   "id": "0c5e9ba0-d2d4-4121-bafc-0ad18cfa98a7",
   "metadata": {},
   "outputs": [
    {
     "name": "stdout",
     "output_type": "stream",
     "text": [
      "7\n"
     ]
    }
   ],
   "source": [
    "# 뒤에서 세 번째 원소 출력\n",
    "print(a[-3])"
   ]
  },
  {
   "cell_type": "code",
   "execution_count": 28,
   "id": "39caf501-bf75-4ffa-b845-c9108833d229",
   "metadata": {},
   "outputs": [
    {
     "name": "stdout",
     "output_type": "stream",
     "text": [
      "[1, 2, 3, 7, 5, 6, 7, 8, 9]\n"
     ]
    }
   ],
   "source": [
    "# 네 번쨰 원소 값 변경\n",
    "a[3] = 7\n",
    "print(a)"
   ]
  },
  {
   "cell_type": "markdown",
   "id": "97b1cd11-140a-4765-9dff-25ea9aca4cb8",
   "metadata": {},
   "source": [
    "* 리스트에서 연속적인 위치를 갖는 원소들을 가져와야 할 때는 슬라이싱(slicing)을 이용할 수 있다.\n",
    "* 대괄호 안에 콜론(:)을 넣어서 시작 인덱스와 (끝 인덱스는 -1)을 설정할 수 있다.\n",
    "* 리스트의 인덱스는 0부터 출발하기 때문에 두 뻔재 원속의 인덱스는 1이 된다."
   ]
  },
  {
   "cell_type": "code",
   "execution_count": 29,
   "id": "c7c7990f-3cce-4b4e-91c7-6140a1ebf847",
   "metadata": {},
   "outputs": [],
   "source": [
    "a = [1,2,3,4,5,6,7,8,9]"
   ]
  },
  {
   "cell_type": "code",
   "execution_count": 30,
   "id": "893105a2-76ba-42b5-a1f9-8cf608b55451",
   "metadata": {},
   "outputs": [
    {
     "name": "stdout",
     "output_type": "stream",
     "text": [
      "[2, 3, 4]\n"
     ]
    }
   ],
   "source": [
    "# 두 번째 원소부터 네 번째 원소까지\n",
    "print(a[1:4])"
   ]
  },
  {
   "cell_type": "markdown",
   "id": "8ffd4962-f03d-4f92-9b77-84182a6e4510",
   "metadata": {},
   "source": [
    "##### 리스트 컴프리헨션\n",
    "* 리스트 컴프리헨션을 이용하면 대괄호([]) 안에 조건문과 반복문을 넣는 방식으로 리스트를 초기화할 수 있다."
   ]
  },
  {
   "cell_type": "code",
   "execution_count": 31,
   "id": "5b3a345b-dad9-4c38-babc-fe0f5ec8b295",
   "metadata": {},
   "outputs": [
    {
     "name": "stdout",
     "output_type": "stream",
     "text": [
      "[1, 3, 5, 7, 9, 11, 13, 15, 17, 19]\n"
     ]
    }
   ],
   "source": [
    "# 0부터 19까지의 수 중에서 홀수만 포함하는 리스트 생성\n",
    "array = [i for i in range(20) if i%2==1]\n",
    "print(array)"
   ]
  },
  {
   "cell_type": "code",
   "execution_count": 32,
   "id": "08167cc0-0bc0-4b6a-b9fc-457b1b05b64f",
   "metadata": {},
   "outputs": [
    {
     "name": "stdout",
     "output_type": "stream",
     "text": [
      "[1, 4, 9, 16, 25, 36, 49, 64, 81]\n"
     ]
    }
   ],
   "source": [
    "# 1부터 9까지의 수의 제곱 값을 포함하는 리스트 생성\n",
    "array = [i**2 for i in range(1,10)]\n",
    "print(array)"
   ]
  },
  {
   "cell_type": "markdown",
   "id": "a0f7de4f-ffdc-4127-8a6e-6ac3fdf40594",
   "metadata": {},
   "source": [
    "* 리스트 컴프리헨션은 코딩 테스트에서 2차원 리스트를 초기화할 때 매우 효과적으로 사용될 수 있다."
   ]
  },
  {
   "cell_type": "code",
   "execution_count": 33,
   "id": "cd66034c-614b-4422-8525-f73a630d8b2c",
   "metadata": {},
   "outputs": [
    {
     "name": "stdout",
     "output_type": "stream",
     "text": [
      "[[0, 0, 0, 0], [0, 0, 0, 0], [0, 0, 0, 0]]\n"
     ]
    }
   ],
   "source": [
    "# N x M 크기의 2차원 리스트 초기화\n",
    "n = 3;m = 4\n",
    "array = [[0]*m for _ in range(n)]\n",
    "print(array)"
   ]
  },
  {
   "cell_type": "markdown",
   "id": "1db55d5f-15fb-4480-9e38-fa030b1ce613",
   "metadata": {},
   "source": [
    "##### cf). 언더바의 역할\n",
    "* 반복을 수행하되 반복을 위한 변수의 값을 무시하고자 할 때 언더바를 사용한다."
   ]
  },
  {
   "cell_type": "markdown",
   "id": "87df88f1-8502-4fb9-a0a9-951fdbfe5a6d",
   "metadata": {},
   "source": [
    "* 특정 크기의 2차원 리스트를 초기화할 때는 반드시 리스트 컴프리헨션을 이용해야 한다."
   ]
  },
  {
   "cell_type": "code",
   "execution_count": 34,
   "id": "81f58468-7ca6-434f-9cf5-ca3de0e53270",
   "metadata": {},
   "outputs": [
    {
     "name": "stdout",
     "output_type": "stream",
     "text": [
      "[[0, 0, 0, 0], [0, 0, 0, 0], [0, 0, 0, 0]]\n"
     ]
    }
   ],
   "source": [
    "# N x M 크기의 2차원 리스트 초기화(잘못된 방법)\n",
    "n = 3;m = 4\n",
    "array = [[0]*m]*n\n",
    "print(array)"
   ]
  },
  {
   "cell_type": "code",
   "execution_count": 35,
   "id": "2910713a-05af-41ce-aaee-9a7d971f73fb",
   "metadata": {},
   "outputs": [
    {
     "name": "stdout",
     "output_type": "stream",
     "text": [
      "[[0, 5, 0, 0], [0, 5, 0, 0], [0, 5, 0, 0]]\n"
     ]
    }
   ],
   "source": [
    "array[1][1] = 5\n",
    "print(array)"
   ]
  },
  {
   "cell_type": "markdown",
   "id": "5799d86d-94b8-4d7e-ab52-3348acea2c25",
   "metadata": {},
   "source": [
    "* 실행 결과를 보면 [1][1]의 값만 5로 바꾸었을 뿐인데, 3개의 리스트에서 인덱스 1에 해당하는 값이 모두 5로 변했다.\n",
    "* 이는 내부적으로 포함된 3개의 리스트가 모두 동일한 객체에 대한 3개의 레퍼런스로 인식되기 때문이다.\n",
    "* 따라서 특정한 크기를 가지는 2차원 리스트를 초기화할 때에는 리스트 컴프리헨션을 이용해야 한다는 점을 기억해야 한다."
   ]
  },
  {
   "cell_type": "markdown",
   "id": "28f92e99-1b4e-4ddc-a0ce-32d5f2a5df41",
   "metadata": {},
   "source": [
    "##### 리스트 관련 기타 메서드\n",
    "* append : 리스트에 원소를 하나 삽입할 때 사용한다.(시간복잡도 : O(1))\n",
    "* sort : 기본 정렬 기능으로 오름차순으로 정렬한다.(시간복잡도 : O(NlogN))\n",
    "  * sort(reverse = True)는 내림차순으로 정렬한다.\n",
    "* reverse : 리스트의 원소 순서를 모두 뒤집어 놓는다.(시간복잡도 : O(N))\n",
    "* insert : 특정한 인덱스 위치에 원소를 삽입할 때 사용한다.(시간복잡도 : O(N))\n",
    "* count : 리스트에서 특정한 값을 가지는 데이터의 개수를 셀 때 사용한다.(시간복잡도 : O(N))\n",
    "* remove : 특정한 값을 갖는 원소를 제거하는데, 값을 가진 원소가 여러 개면 하나만 제거한다.(시간복잡도 : O(N))"
   ]
  },
  {
   "cell_type": "code",
   "execution_count": 36,
   "id": "57d17b04-6e4f-444d-91b1-0e2f1125f85a",
   "metadata": {},
   "outputs": [
    {
     "name": "stdout",
     "output_type": "stream",
     "text": [
      "기본 리스트 : [1, 4, 3]\n"
     ]
    }
   ],
   "source": [
    "a = [1,4,3]\n",
    "print('기본 리스트 :', a)"
   ]
  },
  {
   "cell_type": "code",
   "execution_count": 37,
   "id": "7eceda6b-db81-462a-aa95-839f7869daaa",
   "metadata": {},
   "outputs": [
    {
     "name": "stdout",
     "output_type": "stream",
     "text": [
      "삽입 : [1, 4, 3, 2]\n"
     ]
    }
   ],
   "source": [
    "# 리스트에 원소 삽입\n",
    "a.append(2)\n",
    "print('삽입 :', a)"
   ]
  },
  {
   "cell_type": "code",
   "execution_count": 38,
   "id": "5e189601-23f4-449d-bc93-928c06e0c68c",
   "metadata": {},
   "outputs": [
    {
     "name": "stdout",
     "output_type": "stream",
     "text": [
      "오름차순 정렬 : [1, 2, 3, 4]\n"
     ]
    }
   ],
   "source": [
    "# 오름차순 정렬\n",
    "a.sort()\n",
    "print('오름차순 정렬 :', a)"
   ]
  },
  {
   "cell_type": "code",
   "execution_count": 39,
   "id": "449358bb-b83d-4195-a727-1483cd8e8612",
   "metadata": {},
   "outputs": [
    {
     "name": "stdout",
     "output_type": "stream",
     "text": [
      "내림차순 정렬 : [4, 3, 2, 1]\n"
     ]
    }
   ],
   "source": [
    "# 내림차순 정렬\n",
    "a.sort(reverse= True)\n",
    "print('내림차순 정렬 :', a)"
   ]
  },
  {
   "cell_type": "code",
   "execution_count": 40,
   "id": "9705ed56-9556-4d8b-9e16-2a8f11bdd29a",
   "metadata": {},
   "outputs": [
    {
     "name": "stdout",
     "output_type": "stream",
     "text": [
      "원소 뒤집기 : [1, 2, 3, 4]\n"
     ]
    }
   ],
   "source": [
    "# 리스트 원소 뒤집기\n",
    "a.reverse()\n",
    "print('원소 뒤집기 :', a)"
   ]
  },
  {
   "cell_type": "code",
   "execution_count": 41,
   "id": "86de2e61-58c3-40a3-8c85-d69eeedff448",
   "metadata": {},
   "outputs": [
    {
     "name": "stdout",
     "output_type": "stream",
     "text": [
      "인덱스 2에 3추가 : [1, 2, 3, 3, 4]\n"
     ]
    }
   ],
   "source": [
    "# 특정 인덱스에 데이터 추가\n",
    "a.insert(2, 3)\n",
    "print('인덱스 2에 3추가 :', a)"
   ]
  },
  {
   "cell_type": "code",
   "execution_count": 42,
   "id": "84cf5dbe-a3d3-4b07-bb35-d6678c0e7894",
   "metadata": {},
   "outputs": [
    {
     "name": "stdout",
     "output_type": "stream",
     "text": [
      "값이 3인 데이터 개수 : 2\n"
     ]
    }
   ],
   "source": [
    "# 특정 값인 데이터 개수 세기\n",
    "print('값이 3인 데이터 개수 :', a.count(3))"
   ]
  },
  {
   "cell_type": "code",
   "execution_count": 43,
   "id": "270e2109-e028-4962-bbdc-64712bee05a1",
   "metadata": {},
   "outputs": [
    {
     "name": "stdout",
     "output_type": "stream",
     "text": [
      "값이 1인 데이터 삭제 : [2, 3, 3, 4]\n"
     ]
    }
   ],
   "source": [
    "# 특정 값 데이터 삭제\n",
    "a.remove(1)\n",
    "print('값이 1인 데이터 삭제 :', a)"
   ]
  },
  {
   "cell_type": "markdown",
   "id": "221b919c-508d-407a-924b-567208cdd836",
   "metadata": {},
   "source": [
    "* 코딩 테스트에서 insert 함수를 사용할 때 원소의 개수가 N개면, 시간복잡도는 O(N)이다.\n",
    "* append 함수는 O(1)에 수행되는 데에 반해 insert 함수는 동작이 느리다.\n",
    "* 따라서 insert 함수를 남발하면 '시간 초과'로 테스트를 통과하지 못할 수 있다.\n",
    "* 다른 프로그래밍 언어에서는 remove_all 과 같은 함수로 간단하게 특정한 값을 가지는 모든 원소를 제거할 수 있다.\n",
    "* 하지만 파이썬에서는 원소를 하나씩 확인하며 그 원소가 remove_set에 포함되어 있지 않을 때만 리스트 변수인 result에 넣어준다."
   ]
  },
  {
   "cell_type": "code",
   "execution_count": 44,
   "id": "891e67da-9a64-42b1-89b4-2a164260ab2b",
   "metadata": {},
   "outputs": [],
   "source": [
    "a = [1,2,3,4,5,5,5]\n",
    "remove_set = {3,5}"
   ]
  },
  {
   "cell_type": "code",
   "execution_count": 45,
   "id": "1afa8f96-dd65-4c72-80bb-185bb3795a1a",
   "metadata": {},
   "outputs": [
    {
     "name": "stdout",
     "output_type": "stream",
     "text": [
      "[1, 2, 4]\n"
     ]
    }
   ],
   "source": [
    "# remove_set에 포함되지 않은 값만을 저장\n",
    "result = [i for i in a if i not in remove_set]\n",
    "print(result)"
   ]
  },
  {
   "cell_type": "markdown",
   "id": "517b7792-ae17-45fa-afa9-49e331022e00",
   "metadata": {},
   "source": [
    "#### 문자열 자료형"
   ]
  },
  {
   "cell_type": "markdown",
   "id": "cf85c506-4672-48db-bce2-f3260573f393",
   "metadata": {},
   "source": [
    "##### 문자열 초기화\n",
    "* 문자열 변수를 초기화할 때는 큰따옴표(\"\")나 작은따옴표('')를 이용한다.\n",
    "* 기본적으로 문자열을 큰따옴표로 구성하는 경우, 내부적으로 작은따옴표를 포함할 수 있다.\n",
    "* 반대로 문자열을 작은따옴표로 구성하는 경우, 내부적으로 큰따옴표를 이용할 수 있다.\n",
    "* 혹은 백슬래시(\\)를 사용하면, 큰따옴표나 작은따옴표를 문자열에 원하는 만큼 포함시킬 수 있다."
   ]
  },
  {
   "cell_type": "code",
   "execution_count": 46,
   "id": "b7d2b1d2-6408-43fd-b9ec-2ee427b1bad5",
   "metadata": {},
   "outputs": [
    {
     "name": "stdout",
     "output_type": "stream",
     "text": [
      "Hello World\n"
     ]
    }
   ],
   "source": [
    "s = 'Hello World'\n",
    "print(s)"
   ]
  },
  {
   "cell_type": "code",
   "execution_count": 47,
   "id": "f2f212ff-5b09-4ed1-837a-e53daa0cc262",
   "metadata": {},
   "outputs": [
    {
     "name": "stdout",
     "output_type": "stream",
     "text": [
      "Don't you know \"Python\"?\n"
     ]
    }
   ],
   "source": [
    "s = \"Don't you know \\\"Python\\\"?\"\n",
    "print(s)"
   ]
  },
  {
   "cell_type": "markdown",
   "id": "873b6758-ae22-46e5-b96b-05a3df421049",
   "metadata": {},
   "source": [
    "##### 문자열 연산\n",
    "* 문자열 변수에 덧셈(+)을 이용하면 단순히 문자열이 더해져서 연결된다."
   ]
  },
  {
   "cell_type": "code",
   "execution_count": 48,
   "id": "e9b6f862-13ea-4349-8217-59759321212b",
   "metadata": {},
   "outputs": [
    {
     "name": "stdout",
     "output_type": "stream",
     "text": [
      "Hello World\n"
     ]
    }
   ],
   "source": [
    "a = 'Hello'\n",
    "b = 'World'\n",
    "print(a + ' ' + b)"
   ]
  },
  {
   "cell_type": "markdown",
   "id": "ad7724d0-d2e9-4af9-b9d4-61374df53df3",
   "metadata": {},
   "source": [
    "* 문자열 변수를 양의 정수와 곱하는 경우, 문자열이 그 값만큼 여러 번 더해진다."
   ]
  },
  {
   "cell_type": "code",
   "execution_count": 49,
   "id": "7eb7d0aa-7345-43b5-9592-a4e7cace360c",
   "metadata": {},
   "outputs": [
    {
     "name": "stdout",
     "output_type": "stream",
     "text": [
      "StringStringString\n"
     ]
    }
   ],
   "source": [
    "a = 'String'\n",
    "print(a*3)"
   ]
  },
  {
   "cell_type": "markdown",
   "id": "3241988c-ade3-45c7-bb61-69bba9ba5fbf",
   "metadata": {},
   "source": [
    "* 파이썬의 문자열은 내부적으로 리스트와 같이 처리된다. 따라서 문자열 데이터에 대해서도 마찬가지로 인덱싱과 슬라이싱을 이용할 수 있다."
   ]
  },
  {
   "cell_type": "code",
   "execution_count": 50,
   "id": "dab9d112-16fb-4fc5-920c-2fd89b964770",
   "metadata": {},
   "outputs": [
    {
     "name": "stdout",
     "output_type": "stream",
     "text": [
      "CD\n"
     ]
    }
   ],
   "source": [
    "a = 'ABCDEF'\n",
    "print(a[2:4])"
   ]
  },
  {
   "cell_type": "markdown",
   "id": "72fb1a82-2491-41df-a82b-d72723d49db9",
   "metadata": {},
   "source": [
    "#### 튜플 자료형\n",
    "* 튜플 자료형은 리스트와 거의 비슷한데 다음과 같은 차이가 있다.\n",
    "  * 튜플은 한 번 선언된 값을 변경할 수 없다.\n",
    "  * 리스트는 대괄호([])를 이용하지만, 튜플은 소괄호(())를 이용한다."
   ]
  },
  {
   "cell_type": "code",
   "execution_count": 51,
   "id": "a190db6e-db97-4a06-a3a5-8e8220fd2ee8",
   "metadata": {},
   "outputs": [
    {
     "name": "stdout",
     "output_type": "stream",
     "text": [
      "(1, 2, 3, 4)\n"
     ]
    }
   ],
   "source": [
    "a = (1,2,3,4)\n",
    "print(a)"
   ]
  },
  {
   "cell_type": "code",
   "execution_count": 52,
   "id": "df6b372c-bae2-43b0-be42-9c0d050fa391",
   "metadata": {},
   "outputs": [
    {
     "ename": "TypeError",
     "evalue": "'tuple' object does not support item assignment",
     "output_type": "error",
     "traceback": [
      "\u001b[0;31m---------------------------------------------------------------------------\u001b[0m",
      "\u001b[0;31mTypeError\u001b[0m                                 Traceback (most recent call last)",
      "Cell \u001b[0;32mIn[52], line 2\u001b[0m\n\u001b[1;32m      1\u001b[0m \u001b[38;5;66;03m# 튜플 선언 후 값 변경해보기(튜플은 값이 변경되지 않기 때문에 에러가 발생한다.)\u001b[39;00m\n\u001b[0;32m----> 2\u001b[0m a[\u001b[38;5;241m2\u001b[39m] \u001b[38;5;241m=\u001b[39m \u001b[38;5;241m7\u001b[39m\n",
      "\u001b[0;31mTypeError\u001b[0m: 'tuple' object does not support item assignment"
     ]
    }
   ],
   "source": [
    "# 튜플 선언 후 값 변경해보기(튜플은 값이 변경되지 않기 때문에 에러가 발생한다.)\n",
    "a[2] = 7"
   ]
  },
  {
   "cell_type": "markdown",
   "id": "d68fcc3a-875f-417b-af2d-79479c03d18e",
   "metadata": {},
   "source": [
    "* 튜플 자료형은 그래프 알고리즘을 구현할 때 자주 사용된다.(다익스트라)\n",
    "* 튜플은 리스트에 비해 상대적으로 공간 효율적이고, 일반적으로 각 원소의 성질이 서로 다를 때 주로 사용한다."
   ]
  },
  {
   "cell_type": "markdown",
   "id": "a5a9f17e-bd1a-4cd7-9b23-1580c44d4c40",
   "metadata": {},
   "source": [
    "#### 사전 자료형\n",
    "##### 사전 자료형 소개\n",
    "* 사전 자료형은 키(key)와 값(value)의 쌍을 데이터로 가지는 자료형이다.\n",
    "* 내부적으로 '해시 테이블'을 이용하므로 기본적으로 데이터의 검색 및 수정에 있어서 O(1)의 시간에 처리할 수 있다.\n",
    "* 위와 같이 키-값 쌍으로 구성된 데이터를 처리함에 있어서 리스트보다 훨씬 빠르게 동작한다는 점을 기억해야 한다."
   ]
  },
  {
   "cell_type": "code",
   "execution_count": 53,
   "id": "a8913b56-6aef-42b2-9007-dbe2c63c67a5",
   "metadata": {},
   "outputs": [
    {
     "name": "stdout",
     "output_type": "stream",
     "text": [
      "{'사과': 'Apple', '바나나': 'Banana', '코코넛': 'Coconut'}\n"
     ]
    }
   ],
   "source": [
    "data = dict()\n",
    "data['사과'] = 'Apple'\n",
    "data['바나나'] = 'Banana'\n",
    "data['코코넛'] = 'Coconut'\n",
    "print(data)"
   ]
  },
  {
   "cell_type": "markdown",
   "id": "93c2f5fe-7160-422c-bcce-5c4a0e7994b5",
   "metadata": {},
   "source": [
    "* 사전 자료형에 특정한 원소가 있는지 검사할 때는 '원소 in 사전'의 형태를 사용할 수 있다.\n",
    "* 이는 리스트나 튜플에 대해서도 사용할 수 있는 문법이다."
   ]
  },
  {
   "cell_type": "code",
   "execution_count": 54,
   "id": "3a9b6aec-d9e4-4419-9a14-923b02e5cc4f",
   "metadata": {},
   "outputs": [
    {
     "name": "stdout",
     "output_type": "stream",
     "text": [
      "'사과'를 키로 가지는 데이터가 존재합니다.\n"
     ]
    }
   ],
   "source": [
    "data = dict()\n",
    "data['사과'] = 'Apple'\n",
    "data['바나나'] = 'Banana'\n",
    "data['코코넛'] = 'Coconut'\n",
    "\n",
    "if '사과' in data :\n",
    "    print('\\'사과\\'를 키로 가지는 데이터가 존재합니다.')"
   ]
  },
  {
   "cell_type": "markdown",
   "id": "47fdc479-392b-41bd-8b39-5de2feaa9d79",
   "metadata": {},
   "source": [
    "##### 사전 자료형 관련 함수\n",
    "* 대표적으로는 키와 값을 별도로 뽑아내기 위한 함수가 있다.\n",
    "* 키 데이터만 뽑아서 리스트로 이용할 때는 keys() 함수를 이용하며, 값 데이터만을 뽑아서 리스트로 이용할 때는 values() 함수를 이용한다."
   ]
  },
  {
   "cell_type": "code",
   "execution_count": 55,
   "id": "f011bf4f-67ee-4524-9b78-a77dbbb7da71",
   "metadata": {},
   "outputs": [],
   "source": [
    "data = dict()\n",
    "data['사과'] = 'Apple'\n",
    "data['바나나'] = 'Banana'\n",
    "data['코코넛'] = 'Coconut'"
   ]
  },
  {
   "cell_type": "code",
   "execution_count": 56,
   "id": "2460a43c-9010-4abe-bd28-5ccf5b7a3c14",
   "metadata": {},
   "outputs": [
    {
     "name": "stdout",
     "output_type": "stream",
     "text": [
      "dict_keys(['사과', '바나나', '코코넛'])\n"
     ]
    }
   ],
   "source": [
    "# 키 데이터만 담은 리스트\n",
    "key_list = data.keys()\n",
    "print(key_list)"
   ]
  },
  {
   "cell_type": "code",
   "execution_count": 57,
   "id": "af14622d-bfe3-4eda-ac55-95090ee54ff6",
   "metadata": {},
   "outputs": [
    {
     "name": "stdout",
     "output_type": "stream",
     "text": [
      "dict_values(['Apple', 'Banana', 'Coconut'])\n"
     ]
    }
   ],
   "source": [
    "# 값 데이터만 담은 리스트\n",
    "value_list = data.values()\n",
    "print(value_list)"
   ]
  },
  {
   "cell_type": "code",
   "execution_count": 58,
   "id": "a1b97b83-6bb8-47de-aec8-3462c4811c4a",
   "metadata": {},
   "outputs": [
    {
     "name": "stdout",
     "output_type": "stream",
     "text": [
      "Apple\n",
      "Banana\n",
      "Coconut\n"
     ]
    }
   ],
   "source": [
    "# 각 키에 따른 값을 하나씩 출력\n",
    "for key in key_list :\n",
    "    print(data[key])"
   ]
  },
  {
   "cell_type": "markdown",
   "id": "9402e18a-1587-4892-ab48-a26b2bc2d452",
   "metadata": {},
   "source": [
    "#### 집합 자료형\n",
    "##### 집합 자료형 소개\n",
    "* 집합은 기본적으로 리스트 혹은 문자열을 이용해서 만들 수 있는데, 다음과 같은 특징이 있다.\n",
    "  * 중복을 허용하지 않는다.\n",
    "  * 순서가 없다.\n",
    "* 기본에 다루었던 리스트, 튜플은 순서가 있기 때문에 인덱싱을 통해 값을 얻을 수 있었지만 사전 자료형과 집합 자료형은 순서가 없기 때문에 인덱싱으로 값을 얻을 수 없다는 특징이 있다.\n",
    "* 특정 원소가 존재하는지를 검사하는 연산의 시간 복잡도는 사전 자료형과 마찬가지로 O(1)이다."
   ]
  },
  {
   "cell_type": "code",
   "execution_count": 59,
   "id": "b0520ae6-8938-4262-9850-32d62d7b2ef1",
   "metadata": {},
   "outputs": [
    {
     "name": "stdout",
     "output_type": "stream",
     "text": [
      "{1, 2, 3, 4, 5}\n"
     ]
    }
   ],
   "source": [
    "# 집합 자료형 초기화 방법 (1)\n",
    "data = set([1,1,2,3,4,4,5])\n",
    "print(data)"
   ]
  },
  {
   "cell_type": "code",
   "execution_count": 60,
   "id": "d4d532cf-5cfc-4c49-a79d-3283535ce452",
   "metadata": {},
   "outputs": [
    {
     "name": "stdout",
     "output_type": "stream",
     "text": [
      "{1, 2, 3, 4, 5}\n"
     ]
    }
   ],
   "source": [
    "# 집합 자료형 초기화 방법 (2)\n",
    "data = {1,1,2,3,4,4,5}\n",
    "print(data)"
   ]
  },
  {
   "cell_type": "markdown",
   "id": "dede52fb-85c7-4045-9078-6d9441cea0e6",
   "metadata": {},
   "source": [
    "##### 집합 자료형의 연산\n",
    "* 기본적인 집합 연산으로는 합집합, 교집합, 차집합 연산이 있다.\n",
    "* 합집합을 계산할 때는 '|'을 이용하고, 교집합은 '&', 차집합은 '-'를 이용한다."
   ]
  },
  {
   "cell_type": "code",
   "execution_count": 61,
   "id": "4b0a4ef8-2524-477b-a79a-eaba22a37cba",
   "metadata": {},
   "outputs": [
    {
     "name": "stdout",
     "output_type": "stream",
     "text": [
      "{1, 2, 3, 4, 5, 6, 7}\n",
      "{3, 4, 5}\n",
      "{1, 2}\n"
     ]
    }
   ],
   "source": [
    "a = set([1,2,3,4,5])\n",
    "b = set([3,4,5,6,7])\n",
    "\n",
    "# 합집합\n",
    "print(a | b)\n",
    "# 교집합\n",
    "print(a & b)\n",
    "# 차집합\n",
    "print(a - b)"
   ]
  },
  {
   "cell_type": "markdown",
   "id": "e45d5cf3-f3d7-4882-a0f7-77e02630a49c",
   "metadata": {},
   "source": [
    "##### 집합 자료형 관련 함수\n",
    "* 하나의 집합 데이터에 값을 추가할 때는 add 함수를 이용한다.\n",
    "* update 함수는 여러 개의 값을 한꺼번에 추가하고자 할 때 사용한다.\n",
    "* 특정한 값을 제거할 때는 remove 함수를 이용한다.\n",
    "* 이 때, add, remove 함수의 시간 복잡도는 O(1)이다."
   ]
  },
  {
   "cell_type": "code",
   "execution_count": 62,
   "id": "82fd6684-dc62-4f6b-a7a0-a37e719c3f9f",
   "metadata": {},
   "outputs": [
    {
     "name": "stdout",
     "output_type": "stream",
     "text": [
      "{1, 2, 3}\n"
     ]
    }
   ],
   "source": [
    "data = set([1,2,3])\n",
    "print(data)"
   ]
  },
  {
   "cell_type": "code",
   "execution_count": 63,
   "id": "0f0ca3ec-11c6-4449-9bf2-d1aff9c4fb77",
   "metadata": {},
   "outputs": [
    {
     "name": "stdout",
     "output_type": "stream",
     "text": [
      "{1, 2, 3, 4}\n"
     ]
    }
   ],
   "source": [
    "# 새로운 원소 추가\n",
    "data.add(4)\n",
    "print(data)"
   ]
  },
  {
   "cell_type": "code",
   "execution_count": 64,
   "id": "98bff350-788f-4fb8-92ac-060a3347fc71",
   "metadata": {},
   "outputs": [
    {
     "name": "stdout",
     "output_type": "stream",
     "text": [
      "{1, 2, 3, 4, 5, 6}\n"
     ]
    }
   ],
   "source": [
    "# 새로운 원소 여러 개 추가\n",
    "data.update([5,6])\n",
    "print(data)"
   ]
  },
  {
   "cell_type": "code",
   "execution_count": 65,
   "id": "07aa64fb-b00e-4af6-b058-642a2421a33e",
   "metadata": {},
   "outputs": [
    {
     "name": "stdout",
     "output_type": "stream",
     "text": [
      "{1, 2, 4, 5, 6}\n"
     ]
    }
   ],
   "source": [
    "# 특정한 값을 갖는 원소 삭제\n",
    "data.remove(3)\n",
    "print(data)"
   ]
  },
  {
   "cell_type": "markdown",
   "id": "67fde522-2b16-4c99-aa79-a6cac22893a1",
   "metadata": {},
   "source": [
    "### 2. 조건문\n",
    "* 조건문을 이용하면 조건에 따라서 프로그램의 로직을 설정할 수 있다."
   ]
  },
  {
   "cell_type": "code",
   "execution_count": 66,
   "id": "1792ca17-d0da-47a5-af4a-957ea65c97b2",
   "metadata": {},
   "outputs": [
    {
     "name": "stdout",
     "output_type": "stream",
     "text": [
      "15\n"
     ]
    }
   ],
   "source": [
    "x = 15\n",
    "if x >= 10 :\n",
    "    print(x)"
   ]
  },
  {
   "cell_type": "markdown",
   "id": "abcf7848-b5d6-427d-bd9a-1fc5c60353ac",
   "metadata": {},
   "source": [
    "* 파이썬에서 조건문을 작성할 때는 if ~ elif ~ else 문을 이용한다.\n",
    "* 조건문을 사용할 때 elif 혹은 else 부분은 경우에 따라서 사용하지 않아도 된다.\n",
    "* 예시  \n",
    "if 조건문 1 :  \n",
    "&nbsp;&nbsp;&nbsp;&nbsp;조건문 1이 True 일 때 실행되는 코드  \n",
    "elif 조건문 2 :  \n",
    "&nbsp;&nbsp;&nbsp;&nbsp;조건문 1에 해당하지 않고, 조건문 2가 True 일 때 실행되는 코드  \n",
    "else :  \n",
    "&nbsp;&nbsp;&nbsp;&nbsp;위의 모든 조건문이 모두 True 값이 아닐 때 실행되는 코드  "
   ]
  },
  {
   "cell_type": "markdown",
   "id": "1987ac08-4e05-4265-a030-14d2a0ee081e",
   "metadata": {},
   "source": [
    "* ex) 다음과 같이 성적 구간에 따른 학점 정보를 출력한다고 가정할 때 if ~ elif ~ else 문을 효과적으로 사용할 수 있다.\n",
    "  * 성적이 90점 이상일 때 : A\n",
    "  * 성적이 90점 미만, 80점 이상일 때 : B\n",
    "  * 성적이 80점 미만, 70점 이상일 때 : C\n",
    "  * 성적이 70점 미만일 때 : F"
   ]
  },
  {
   "cell_type": "code",
   "execution_count": 67,
   "id": "320ab589-50ca-4182-b647-d6b3a04ea503",
   "metadata": {},
   "outputs": [
    {
     "name": "stdout",
     "output_type": "stream",
     "text": [
      "학점 : B\n"
     ]
    }
   ],
   "source": [
    "score = 85\n",
    "if score >= 90 :\n",
    "    print('학점 : A')\n",
    "elif score >= 80 :\n",
    "    print('학점 : B')\n",
    "elif score >= 70 :\n",
    "    print('학점 : C')\n",
    "else :\n",
    "    print('학점 : F')"
   ]
  },
  {
   "cell_type": "markdown",
   "id": "b045aed1-964a-4043-8b23-0d643f5743e8",
   "metadata": {},
   "source": [
    "* 조건문을 작성할 때는 코드의 블록을 들여쓰기로 설정한다는 점을 기억해야 한다.\n",
    "* 들여쓰기가 같은 부분은 함께 실행된다."
   ]
  },
  {
   "cell_type": "code",
   "execution_count": 68,
   "id": "98775d9a-b4b0-4b81-b748-3d7092c37e9e",
   "metadata": {},
   "outputs": [
    {
     "name": "stdout",
     "output_type": "stream",
     "text": [
      "성적이 70점 이상입니다.\n",
      "프로그램을 종료합니다.\n"
     ]
    }
   ],
   "source": [
    "score = 85\n",
    "if score >= 70 :\n",
    "    print('성적이 70점 이상입니다.')\n",
    "    if score >= 90 :\n",
    "        print('우수한 성적입니다.')\n",
    "else :\n",
    "    print('성적이 70점 미만입니다.')\n",
    "    print('분발하세요.')\n",
    "print('프로그램을 종료합니다.')"
   ]
  },
  {
   "cell_type": "markdown",
   "id": "6db2d390-68bc-45e4-a1cd-9fc16c426f2e",
   "metadata": {},
   "source": [
    "* 파이썬에서 들여쓰기는 스페이스 바를 4번 입력하여 작성한다.\n",
    "* 이왕이면 띄어쓰기 4번으로 할 수 있도록 습관을 들이는 것을 추천한다."
   ]
  },
  {
   "cell_type": "markdown",
   "id": "d1359d93-45d4-4d8f-bb68-9568815cd6a2",
   "metadata": {},
   "source": [
    "#### 비교 연산자\n",
    "* 조건문에는 비교 연산자를 자주 사용한다.\n",
    "  * X == Y : X와 Y가 서로 같을 때 True\n",
    "  * X != Y : X와 Y가 서로 다를 때 True\n",
    "  * X > Y : X가 Y보다 클 때 True\n",
    "  * X < Y : X가 Y보다 작을 때 True\n",
    "  * X >= Y : X가 Y보다 크거나 같을 때 True\n",
    "  * X <= Y : X가 Y보다 작거나 같을 때 True"
   ]
  },
  {
   "cell_type": "markdown",
   "id": "5ce9cd90-490b-4e16-83c8-d971d4d22c06",
   "metadata": {},
   "source": [
    "#### 논리 연산자\n",
    "* 논리 연산자는 2개의 논리 값 사이의 연산을 수행할 때 사용하는데 파이썬에는 3가지 논리 연산자가 있다.\n",
    "  * X and Y : X와 Y가 모두 True 일 때 True\n",
    "  * X or Y : X와 Y 중 하나만 True 이면 True\n",
    "  * not X : X가 False 일 때 True"
   ]
  },
  {
   "cell_type": "markdown",
   "id": "371c1c29-2ac4-448b-99e8-b8c67466bdda",
   "metadata": {},
   "source": [
    "#### 파이썬의 기타 연산자\n",
    "* 파이썬에서는 추가적으로 'in 연산자'와 'not in 연산자'를 제공한다.\n",
    "  * X in 리스트 : 리스트 안에 X가 들어가 있을 때 True\n",
    "  * X not in 문자열 : 문자열 안에 X가 들어가 있지 않을 때 True\n",
    "* 파이썬에서는 조건문의 값이 True 라고 해도, 아무것도 처리하고 싶지 않을 때 pass 문을 이용할 수 있다."
   ]
  },
  {
   "cell_type": "code",
   "execution_count": 69,
   "id": "ae32571a-aabd-4ee7-bd8f-00426113b908",
   "metadata": {},
   "outputs": [
    {
     "name": "stdout",
     "output_type": "stream",
     "text": [
      "프로그램을 종료합니다.\n"
     ]
    }
   ],
   "source": [
    "score = 85\n",
    "if score >= 80 :\n",
    "    pass # 나중에 작성할 코드\n",
    "else : \n",
    "    print('성적이 80점 미만입니다.')\n",
    "print('프로그램을 종료합니다.')"
   ]
  },
  {
   "cell_type": "markdown",
   "id": "7ce0ea6f-9cb8-4f16-a380-276412f8106c",
   "metadata": {},
   "source": [
    "* 조건문에서 실행될 코드가 한 줄인 경우, 굳이 줄 바꿈을 하지 않고도 간략하게 표현할 수 있다."
   ]
  },
  {
   "cell_type": "code",
   "execution_count": 70,
   "id": "dd45e7bc-0a5f-481a-ac4e-101a66f7c214",
   "metadata": {},
   "outputs": [
    {
     "name": "stdout",
     "output_type": "stream",
     "text": [
      "Success\n"
     ]
    }
   ],
   "source": [
    "score = 85\n",
    "if score >= 80 : result = 'Success'\n",
    "else : result = 'Fail'\n",
    "print(result)"
   ]
  },
  {
   "cell_type": "markdown",
   "id": "df98c4f5-1d7d-4312-b2d3-fad905393a0f",
   "metadata": {},
   "source": [
    "* 조건부 표현식을 이용하면 if ~ else 문을 한 줄에 작성해 사용할 수 있다."
   ]
  },
  {
   "cell_type": "code",
   "execution_count": 71,
   "id": "3956fa8c-8574-4cd1-b917-2f319dc75719",
   "metadata": {},
   "outputs": [
    {
     "name": "stdout",
     "output_type": "stream",
     "text": [
      "Success\n"
     ]
    }
   ],
   "source": [
    "score = 85\n",
    "result = 'Success' if score >= 80 else 'Fail'\n",
    "print(result)"
   ]
  },
  {
   "cell_type": "markdown",
   "id": "34587ed3-1304-4e50-be8c-3f523a6f6b2b",
   "metadata": {},
   "source": [
    "* 조건부 표현식은 리스트에 있는 원소의 값을 변경해서, 또 다른 리스트를 만들고자 할 때 매우 간결하게 사용할 수 있다."
   ]
  },
  {
   "cell_type": "code",
   "execution_count": 72,
   "id": "08f1553c-a900-4876-83e2-b51c6d336ae4",
   "metadata": {},
   "outputs": [],
   "source": [
    "a = [1,2,3,4,5,5,5]\n",
    "remove_set = {3,5}"
   ]
  },
  {
   "cell_type": "code",
   "execution_count": 73,
   "id": "9f567211-ceb3-438a-8ea0-ab53fc9e01ad",
   "metadata": {},
   "outputs": [
    {
     "name": "stdout",
     "output_type": "stream",
     "text": [
      "[1, 2, 4]\n"
     ]
    }
   ],
   "source": [
    "result = []\n",
    "for i in a :\n",
    "    if i not in remove_set :\n",
    "        result.append(i)\n",
    "print(result)"
   ]
  },
  {
   "cell_type": "markdown",
   "id": "2345c26c-2b31-493b-8ca7-ec0ae0d2e46c",
   "metadata": {},
   "source": [
    "##### cf). 파이썬 조건문 내에서의 부등식\n",
    "* 다른 언어와 달리 파이썬은 조건문 안에서 수학의 부등식을 그대로 사용할 수 있다."
   ]
  },
  {
   "cell_type": "code",
   "execution_count": 74,
   "id": "65297383-61ac-4529-a03f-6108280f55b9",
   "metadata": {},
   "outputs": [
    {
     "name": "stdout",
     "output_type": "stream",
     "text": [
      "x는 0 이상 20 미만의 수입니다.\n"
     ]
    }
   ],
   "source": [
    "x = 15\n",
    "if x >= 0 and x < 20 :\n",
    "    print('x는 0 이상 20 미만의 수입니다.')"
   ]
  },
  {
   "cell_type": "code",
   "execution_count": 75,
   "id": "a5477fde-afe0-4baa-bc14-460e10e46186",
   "metadata": {},
   "outputs": [
    {
     "name": "stdout",
     "output_type": "stream",
     "text": [
      "x는 0 이상 20 미만의 수입니다.\n"
     ]
    }
   ],
   "source": [
    "x = 15\n",
    "if 0 <= x < 20 :\n",
    "    print('x는 0 이상 20 미만의 수입니다.')"
   ]
  },
  {
   "cell_type": "markdown",
   "id": "b17d9441-9a5a-4bc0-af0f-db7d91708006",
   "metadata": {},
   "source": [
    "### 3. 반복문\n",
    "* 반복문은 특정한 소스코드를 반복적으로 실행하고자 할 때 사용할 수 있다.\n",
    "* for문과 while문이 있는데, 코딩 테스트에서 for문이 대부분의 경우 소스코드가 더 짧은 경우가 많다."
   ]
  },
  {
   "cell_type": "markdown",
   "id": "2185debe-7948-46de-b540-8db88b59713a",
   "metadata": {},
   "source": [
    "#### while 문\n",
    "* 조건문이 참일 때에 한해서, 반복적으로 코드가 수행된다.\n",
    "* 조건문 설정에 따라 해당 블록을 영원히 반복할 수 있는데, 이를 무한 루프라고 한다.\n",
    "* 코딩 테스트에서 무한 루프를 구현할 일은 거의 없다."
   ]
  },
  {
   "cell_type": "code",
   "execution_count": 76,
   "id": "faff436a-0169-4a72-b307-d7ffffa0a34a",
   "metadata": {},
   "outputs": [
    {
     "name": "stdout",
     "output_type": "stream",
     "text": [
      "45\n"
     ]
    }
   ],
   "source": [
    "i = 1\n",
    "result = 0\n",
    "\n",
    "# i가 9보다 작거나 같을 때 반복 실행\n",
    "while i <= 9 :\n",
    "    result += i\n",
    "    i += 1\n",
    "print(result)"
   ]
  },
  {
   "cell_type": "code",
   "execution_count": 77,
   "id": "aa8e3f20-ab96-4141-b3f9-cacd699f2f09",
   "metadata": {},
   "outputs": [
    {
     "name": "stdout",
     "output_type": "stream",
     "text": [
      "25\n"
     ]
    }
   ],
   "source": [
    "i = 1\n",
    "result = 0\n",
    "\n",
    "# i가 9보다 작거나 같을 때 홀수의 합\n",
    "while i <= 9 :\n",
    "    if i % 2 == 1 :\n",
    "        result += i\n",
    "    i += 1\n",
    "print(result)"
   ]
  },
  {
   "cell_type": "markdown",
   "id": "b184d114-d3ed-479f-8118-c12e998b8f42",
   "metadata": {},
   "source": [
    "#### for 문\n",
    "* in 뒤에 오는 데이터에 포함되어 있는 모든 우너소를 첫 번째 인덱스부터 차례대로 하나씩 방문한다.\n",
    "* in 뒤에 오는 데이터로는 리스트, 튜플, 문자열 등이 사용될 수 있다.\n",
    "\n",
    "for 변수 in 리스트(튜플, 문자열) :  \n",
    "&nbsp;&nbsp;&nbsp;&nbsp;실행할 소스 코드"
   ]
  },
  {
   "cell_type": "code",
   "execution_count": 78,
   "id": "7fcb5da8-4d97-4c3f-b5f6-44c862e736f9",
   "metadata": {},
   "outputs": [
    {
     "name": "stdout",
     "output_type": "stream",
     "text": [
      "45\n"
     ]
    }
   ],
   "source": [
    "result = 0\n",
    "\n",
    "# i가 9보다 작거나 같을 때 반복 실행\n",
    "for i in range(1,10) :\n",
    "    result += i\n",
    "print(result)"
   ]
  },
  {
   "cell_type": "markdown",
   "id": "ab5a289f-07bc-478e-816f-c9a05b52957e",
   "metadata": {},
   "source": [
    "* range()의 값으로 하나의 값만 넣으면 자동으로 시작 값은 0이 된다."
   ]
  },
  {
   "cell_type": "code",
   "execution_count": 79,
   "id": "66abc43c-328e-42d4-92bf-b7269c008d08",
   "metadata": {},
   "outputs": [
    {
     "name": "stdout",
     "output_type": "stream",
     "text": [
      "1 번 학생은 합격입니다.\n",
      "2 번 학생은 합격입니다.\n",
      "5 번 학생은 합격입니다.\n"
     ]
    }
   ],
   "source": [
    "scores = [90,85,77,65,97]\n",
    "\n",
    "for i in range(5) :\n",
    "    if scores[i] >= 80 :\n",
    "        print(i+1, '번 학생은 합격입니다.')"
   ]
  },
  {
   "cell_type": "markdown",
   "id": "e5121bf2-f3a0-492c-96a0-3cc121ca7caa",
   "metadata": {},
   "source": [
    "* 반복문 안에서 continue를 만나면 프로그램의 흐름은 반복문의 처음으로 돌아간다.\n",
    "* 위의 예시에서 continue를 만난 학생은 무시하고, 다시 다음 번호부터 처리하도록 돌아간다."
   ]
  },
  {
   "cell_type": "code",
   "execution_count": 80,
   "id": "f70cccdf-245f-4221-ac5b-e7707a6e20ef",
   "metadata": {},
   "outputs": [
    {
     "name": "stdout",
     "output_type": "stream",
     "text": [
      "1 번 학생은 합격입니다.\n",
      "5 번 학생은 합격입니다.\n"
     ]
    }
   ],
   "source": [
    "scores = [90,85,77,65,97]\n",
    "cheating_list = {2,4}\n",
    "\n",
    "for i in range(5) :\n",
    "    if i+1 in cheating_list :\n",
    "        continue\n",
    "    if scores[i] >= 80 :\n",
    "        print(i+1, '번 학생은 합격입니다.')"
   ]
  },
  {
   "cell_type": "markdown",
   "id": "89322d4a-9be2-4906-8077-a6c66e3fe3b1",
   "metadata": {},
   "source": [
    "* 반복문은 얼마든지 중첩해서 사용할 수 있다.\n",
    "* 실제로 중첩된 반복문은 코딩 테스트에서도 '플로이드 워셜 알고리즘', '다이나믹 프로그래밍' 등의 알고리즘 문제에서 매우 많이 사용된다."
   ]
  },
  {
   "cell_type": "code",
   "execution_count": 81,
   "id": "9981287c-bd34-405e-adab-edf60a8bdf30",
   "metadata": {},
   "outputs": [
    {
     "name": "stdout",
     "output_type": "stream",
     "text": [
      "2 x 1 = 2\n",
      "2 x 2 = 4\n",
      "2 x 3 = 6\n",
      "2 x 4 = 8\n",
      "2 x 5 = 10\n",
      "2 x 6 = 12\n",
      "2 x 7 = 14\n",
      "2 x 8 = 16\n",
      "2 x 9 = 18\n",
      "\n",
      "3 x 1 = 3\n",
      "3 x 2 = 6\n",
      "3 x 3 = 9\n",
      "3 x 4 = 12\n",
      "3 x 5 = 15\n",
      "3 x 6 = 18\n",
      "3 x 7 = 21\n",
      "3 x 8 = 24\n",
      "3 x 9 = 27\n",
      "\n",
      "4 x 1 = 4\n",
      "4 x 2 = 8\n",
      "4 x 3 = 12\n",
      "4 x 4 = 16\n",
      "4 x 5 = 20\n",
      "4 x 6 = 24\n",
      "4 x 7 = 28\n",
      "4 x 8 = 32\n",
      "4 x 9 = 36\n",
      "\n"
     ]
    }
   ],
   "source": [
    "# 구구단 2단부터 4단까지 출력\n",
    "for i in range(2,5) :\n",
    "    for j in range(1,10) :\n",
    "        print(i, 'x', j, '=', i*j)\n",
    "    print()"
   ]
  },
  {
   "cell_type": "markdown",
   "id": "220bd578-9634-49e6-8641-6193ba9f81a5",
   "metadata": {},
   "source": [
    "### 4. 함수\n",
    "* 똑같은 코드가 반복적으로 사용되어야 하는 문제에서 문제를 푸는 코드를 함수화하면 효과적으로 풀 수 있다.\n",
    "* 함수를 작성할 때는 함수 내부에서 사용되는 변수의 값을 전달받기 위해 매개변수를 정의할 수 있다.\n",
    "* 함수에서 어떠한 값을 반환하고자 할 때는 return을 이용한다.(return문은 존재하지 않을 수도 있다.)\n",
    "\n",
    "def 함수명(매개변수) :  \n",
    "&nbsp;&nbsp;&nbsp;&nbsp;실행할 소스코드  \n",
    "&nbsp;&nbsp;&nbsp;&nbsp;return 반환 값"
   ]
  },
  {
   "cell_type": "code",
   "execution_count": 82,
   "id": "3d1f01d7-8222-4f28-82fd-4a6f28951243",
   "metadata": {},
   "outputs": [
    {
     "name": "stdout",
     "output_type": "stream",
     "text": [
      "10\n"
     ]
    }
   ],
   "source": [
    "# 더하기 함수\n",
    "def add(a,b) :\n",
    "    return a+b\n",
    "\n",
    "print(add(3,7))"
   ]
  },
  {
   "cell_type": "code",
   "execution_count": 83,
   "id": "4f086171-7470-41e6-8b6a-0346944f6166",
   "metadata": {},
   "outputs": [
    {
     "name": "stdout",
     "output_type": "stream",
     "text": [
      "함수의 결과 : 10\n"
     ]
    }
   ],
   "source": [
    "# return 없이\n",
    "def add(a,b) :\n",
    "    print('함수의 결과 :', a+b)\n",
    "\n",
    "add(3,7)"
   ]
  },
  {
   "cell_type": "markdown",
   "id": "d8538af6-9f3f-4150-bed4-d51913386002",
   "metadata": {},
   "source": [
    "* 함수를 호출하는 과정에서 인자를 넘겨줄 때, 파라미터의 값을 직접 지정해서 값을 넣을 수 있다.\n",
    "* 이 경우 매개변수의 순서가 달라도 상관없다."
   ]
  },
  {
   "cell_type": "code",
   "execution_count": 84,
   "id": "a206d625-72c6-48cf-9a78-0e156fb209ff",
   "metadata": {},
   "outputs": [
    {
     "name": "stdout",
     "output_type": "stream",
     "text": [
      "함수의 결과 : 10\n"
     ]
    }
   ],
   "source": [
    "# return 없이\n",
    "def add(a,b) :\n",
    "    print('함수의 결과 :', a+b)\n",
    "\n",
    "add(b= 3, a= 7)"
   ]
  },
  {
   "cell_type": "markdown",
   "id": "877468a5-24f9-4a8a-929c-b6d941f0af23",
   "metadata": {},
   "source": [
    "* 함수 안에서 함수 밖의 변수 데이터를 변경해야 하는 경우 global 키워드를 이용하면 된다."
   ]
  },
  {
   "cell_type": "code",
   "execution_count": 85,
   "id": "16327d2a-6832-47a5-86dc-64c0e1adbe4b",
   "metadata": {},
   "outputs": [
    {
     "name": "stdout",
     "output_type": "stream",
     "text": [
      "10\n"
     ]
    }
   ],
   "source": [
    "a = 0\n",
    "\n",
    "def func() :\n",
    "    global a\n",
    "    a += 1\n",
    "\n",
    "for i in range(10) :\n",
    "    func()\n",
    "\n",
    "print(a)"
   ]
  },
  {
   "cell_type": "markdown",
   "id": "ef726a02-9ca7-4865-8f23-aa1fe71137af",
   "metadata": {},
   "source": [
    "* 파이썬에서는 람다 표현식을 사용할 수 있는데, 이를 이용하면 함수를 매우 간단하게 작성할 수 있다.\n",
    "* 람다식은 파이썬의 정렬 라이브러리를 사용할 때, 정렬 기준을 설정할 때에도 자주 사용된다."
   ]
  },
  {
   "cell_type": "code",
   "execution_count": 86,
   "id": "3072701f-61ae-4075-8dd9-96878af2a987",
   "metadata": {},
   "outputs": [
    {
     "name": "stdout",
     "output_type": "stream",
     "text": [
      "10\n",
      "10\n"
     ]
    }
   ],
   "source": [
    "def add(a,b) :\n",
    "    return a+b\n",
    "\n",
    "# 일반적인 add 사용\n",
    "print(add(3,7))\n",
    "\n",
    "# 람다 표현식으로 구한 add\n",
    "print((lambda a, b: a+b)(3,7))"
   ]
  },
  {
   "cell_type": "markdown",
   "id": "2eb279e0-22bc-46cf-a4e6-5eca8f0c4a36",
   "metadata": {},
   "source": [
    "### 5. 입출력\n"
   ]
  },
  {
   "cell_type": "markdown",
   "id": "be22990c-6c9a-4465-9fc7-11fb70cf32de",
   "metadata": {},
   "source": [
    "* 데이터를 입력받을 때는 input() 이용\n",
    "* 한 줄의 문자열을 입력받도록 도와준다.\n",
    "* 입력받은 문자열을 띄어쓰기로 구분하여 각각 정수 자료형의 데이터로 저장하는 코드의 사용 빈도가 높고, list(map(int, input().split()))을 이용한다."
   ]
  },
  {
   "cell_type": "code",
   "execution_count": 87,
   "id": "183e5782-89db-4420-8248-057f1032bd81",
   "metadata": {},
   "outputs": [
    {
     "name": "stdin",
     "output_type": "stream",
     "text": [
      " 5\n",
      " 65 90 75 34 99\n"
     ]
    },
    {
     "name": "stdout",
     "output_type": "stream",
     "text": [
      "[99, 90, 75, 65, 34]\n"
     ]
    }
   ],
   "source": [
    "# 데이터 개수 입력\n",
    "n = int(input())\n",
    "# 각 데이터를 공백으로 구분하여 입력\n",
    "data = list(map(int, input().split()))\n",
    "\n",
    "data.sort(reverse= True)\n",
    "print(data)"
   ]
  },
  {
   "cell_type": "markdown",
   "id": "d6973530-d84d-4199-adcc-89b76fc2d04a",
   "metadata": {},
   "source": [
    "* 공백으로 구분된 데이터 수가 많지 않다면, map(int, input().split())을 이용"
   ]
  },
  {
   "cell_type": "code",
   "execution_count": 88,
   "id": "feddf6e1-0f0e-4cfe-b924-dd1a843d72ab",
   "metadata": {},
   "outputs": [
    {
     "name": "stdin",
     "output_type": "stream",
     "text": [
      " 3 5 7\n"
     ]
    },
    {
     "name": "stdout",
     "output_type": "stream",
     "text": [
      "3 5 7\n"
     ]
    }
   ],
   "source": [
    "# n,m,k 공백으로 구분하여 입력\n",
    "n,m,k = map(int, input().split())\n",
    "print(n,m,k)"
   ]
  },
  {
   "cell_type": "markdown",
   "id": "91df82f2-8cd6-406c-8ce1-40619cc5f604",
   "metadata": {},
   "source": [
    "* 파이썬의 기본 input() 함수는 동작 속도가 느려서 시간 초과로 오답 판정을 받을 수 있기 때문에 sys 라이브러리의 sys.stdin.readline() 함수를 이용\n",
    "* sys 라이브러리 사용시 readline()으로 입력하면 입력 후 엔터가 줄 바꿈 기호로 입력되기 때문에 이 공백 문자를 제거하기 위해 rstrip()을 반드시 호출\n",
    "* 주피터에서는 sys 라이브러리가 에러가 발생한다."
   ]
  },
  {
   "cell_type": "code",
   "execution_count": 89,
   "id": "b6607fd1-a2c5-471d-9e2e-537c32d07364",
   "metadata": {},
   "outputs": [],
   "source": [
    "# import sys\n",
    "# # 문자열 입력받기\n",
    "# data = sys.stdin.readline().rstrip()\n",
    "# print(data)"
   ]
  },
  {
   "cell_type": "markdown",
   "id": "2d286af2-d153-4b44-84cc-081ecb5f65f6",
   "metadata": {},
   "source": [
    "* 출력을 할 때는 print()를 이용\n",
    "* print()는 각 변수를 콤마(,)로 구분하여 매개변수로 넣을 수 있는데, 이 경우 각 변수가 띄어쓰기로 구분되어 출력된다."
   ]
  },
  {
   "cell_type": "code",
   "execution_count": 90,
   "id": "9b63ef86-3f9d-4132-ac01-6acab963fa37",
   "metadata": {},
   "outputs": [
    {
     "name": "stdout",
     "output_type": "stream",
     "text": [
      "1 2\n"
     ]
    }
   ],
   "source": [
    "# 출력할 변수들\n",
    "a = 1\n",
    "b = 2\n",
    "print(a,b)"
   ]
  },
  {
   "cell_type": "markdown",
   "id": "114eec91-34bb-4c99-b3d3-62fa8af14011",
   "metadata": {},
   "source": [
    "* print()는 기본적으로 출력 이후에 줄 바꿈을 수행한다. 따라서 print()를 사용할 때마다 줄이 변경된다고 볼 수 있다."
   ]
  },
  {
   "cell_type": "code",
   "execution_count": 91,
   "id": "d57b9210-cf61-4c7b-aac0-64db8b854c81",
   "metadata": {},
   "outputs": [
    {
     "name": "stdout",
     "output_type": "stream",
     "text": [
      "1\n",
      "2\n"
     ]
    }
   ],
   "source": [
    "# 출력할 변수들\n",
    "a = 1\n",
    "b = 2\n",
    "print(a)\n",
    "print(b)"
   ]
  },
  {
   "cell_type": "markdown",
   "id": "269593a6-ad0d-4733-a335-e7c7217a533d",
   "metadata": {},
   "source": [
    "* 일부 문제의 경우 출력할 때 문자열과 수를 함께 출력해야 되는 경우가 있는데 이 경우 단순히 더하기 연산자(+)를 이용하여 문자열과 수를 더하면 오류가 발생한다."
   ]
  },
  {
   "cell_type": "code",
   "execution_count": 92,
   "id": "047cd3df-c5df-49b2-a784-5ec6ba4b5e62",
   "metadata": {},
   "outputs": [
    {
     "ename": "TypeError",
     "evalue": "can only concatenate str (not \"int\") to str",
     "output_type": "error",
     "traceback": [
      "\u001b[0;31m---------------------------------------------------------------------------\u001b[0m",
      "\u001b[0;31mTypeError\u001b[0m                                 Traceback (most recent call last)",
      "Cell \u001b[0;32mIn[92], line 3\u001b[0m\n\u001b[1;32m      1\u001b[0m \u001b[38;5;66;03m# 출력할 변수들\u001b[39;00m\n\u001b[1;32m      2\u001b[0m answer \u001b[38;5;241m=\u001b[39m \u001b[38;5;241m7\u001b[39m\n\u001b[0;32m----> 3\u001b[0m \u001b[38;5;28mprint\u001b[39m(\u001b[38;5;124;43m'\u001b[39;49m\u001b[38;5;124;43m정답은 \u001b[39;49m\u001b[38;5;124;43m'\u001b[39;49m\u001b[43m \u001b[49m\u001b[38;5;241;43m+\u001b[39;49m\u001b[43m \u001b[49m\u001b[43manswer\u001b[49m \u001b[38;5;241m+\u001b[39m \u001b[38;5;124m'\u001b[39m\u001b[38;5;124m입니다.\u001b[39m\u001b[38;5;124m'\u001b[39m)\n",
      "\u001b[0;31mTypeError\u001b[0m: can only concatenate str (not \"int\") to str"
     ]
    }
   ],
   "source": [
    "# 출력할 변수들\n",
    "answer = 7\n",
    "print('정답은 ' + answer + '입니다.')"
   ]
  },
  {
   "cell_type": "markdown",
   "id": "77621d02-c6ce-451a-8d91-f9cafe055ffb",
   "metadata": {},
   "source": [
    "* (1) str()함수를 이용하여 출력하고자 하는 변수 데이터를 문자열로 바꾸어주거나, \n",
    "* (2) 각 자료형을 콤마(,)를 기준으로 구분하여 출력"
   ]
  },
  {
   "cell_type": "code",
   "execution_count": 93,
   "id": "36ebd4a6-531d-4d77-9a7f-b17e4615fea6",
   "metadata": {},
   "outputs": [
    {
     "name": "stdout",
     "output_type": "stream",
     "text": [
      "정답은 7입니다.\n"
     ]
    }
   ],
   "source": [
    "# 변수를 문자열로 바꾸어 출력하는 예시\n",
    "answer = 7\n",
    "print('정답은 ' + str(answer) + '입니다.')"
   ]
  },
  {
   "cell_type": "markdown",
   "id": "9da1c97f-14e4-49b5-91e5-406f529edd3f",
   "metadata": {},
   "source": [
    "* 콤마로 구분하여 출력하는 경우, 변수의 값 사이에 의도치 않은 공백이 삽입될 수 있다는 점을 신경 써주도록 한다."
   ]
  },
  {
   "cell_type": "code",
   "execution_count": 94,
   "id": "832e734b-1e17-4d28-9c75-727881f488e4",
   "metadata": {},
   "outputs": [
    {
     "name": "stdout",
     "output_type": "stream",
     "text": [
      "정답은 7 입니다.\n"
     ]
    }
   ],
   "source": [
    "# 변수를 콤마(,)로 구분하여 출력하는 예시\n",
    "answer = 7\n",
    "print('정답은',str(answer),'입니다.')"
   ]
  },
  {
   "cell_type": "markdown",
   "id": "2eac1cdc-805c-4d89-8df4-337d9cf31334",
   "metadata": {},
   "source": [
    "* python 3.6 이상의 버전에서 f-string 문법을 사용할 수 있다.\n",
    "* 문자열 앞에 ' f '를 붙여 단순히 중괄호({}) 안에 변수를 넣음으로써, 자료형의 변환 없이도 문자열과 정수를 함께 넣을 수 있다."
   ]
  },
  {
   "cell_type": "code",
   "execution_count": 95,
   "id": "f658f70f-73b2-4f7b-8808-0a3f7d41be06",
   "metadata": {},
   "outputs": [
    {
     "name": "stdout",
     "output_type": "stream",
     "text": [
      "정답은 7입니다.\n"
     ]
    }
   ],
   "source": [
    "answer = 7\n",
    "print(f'정답은 {answer}입니다.')"
   ]
  },
  {
   "cell_type": "markdown",
   "id": "072774d8-1634-44ea-8e26-b2cc401d675f",
   "metadata": {},
   "source": [
    "### 6. 주요 라이브러리의 문법과 유의점"
   ]
  },
  {
   "cell_type": "markdown",
   "id": "4aedda31-4876-476a-85cb-878e1293ef7c",
   "metadata": {},
   "source": [
    "* 표준 라이브러리란 특정한 프로그래밍 언어에서 자주 사용되는 표준 소스코드를 미리 구현해 놓은 라이브러리를 의미한다.\n",
    "* 파이썬 표준 라이브러리는 다음 공식 문서에서 자세히 확인할 수 있다. https://docs.python.org/ko/3/library/index.html\n",
    "* 코테를 준비하며 반드시 알아야 하는 라이브러리는 6가지 정도가 있다."
   ]
  },
  {
   "cell_type": "markdown",
   "id": "172f523e-f5ac-4404-8b86-cc402854a98e",
   "metadata": {},
   "source": [
    "#### 내장 함수\n",
    "* print(), input()과 같은 기본 입출력 기능부터 sorted()와 같은 정렬 기능을 포함하고 있는 기본 내장 라이브러리이다.\n",
    "* print(), input()은 앞서 설명했으니 여기서는 생략"
   ]
  },
  {
   "cell_type": "markdown",
   "id": "d75fa513-1c74-42d1-b048-b1b88561914d",
   "metadata": {},
   "source": [
    "* sum() 함수는 리스트와 같은 iterable한 객체(list, dict, tuple, etc.)가 입력으로 주어졌을 때, 모든 원소의 합을 반환"
   ]
  },
  {
   "cell_type": "code",
   "execution_count": 96,
   "id": "3fd7d140-c456-44f7-858b-9a2afa306288",
   "metadata": {},
   "outputs": [
    {
     "name": "stdout",
     "output_type": "stream",
     "text": [
      "15\n"
     ]
    }
   ],
   "source": [
    "result = sum([1,2,3,4,5])\n",
    "print(result)"
   ]
  },
  {
   "cell_type": "markdown",
   "id": "d7565548-bdfc-4140-991b-75cf240d9ecd",
   "metadata": {},
   "source": [
    "* min() 함수는 파라미터가 2개 이상 들어왔을 때 가장 작은 값을 반환"
   ]
  },
  {
   "cell_type": "code",
   "execution_count": 97,
   "id": "ac770ac0-0600-42ad-96ae-2093edca2f72",
   "metadata": {},
   "outputs": [
    {
     "name": "stdout",
     "output_type": "stream",
     "text": [
      "2\n"
     ]
    }
   ],
   "source": [
    "result = min(7,3,5,2)\n",
    "print(result)"
   ]
  },
  {
   "cell_type": "markdown",
   "id": "9298ceee-89a0-4d99-a275-9ce81d93337a",
   "metadata": {},
   "source": [
    "* max() 함수는 파라미터가 2개 이상 들어왔을 때 가장 큰 값을 반환"
   ]
  },
  {
   "cell_type": "code",
   "execution_count": 98,
   "id": "e3ba22a8-57cc-475e-8689-9bd317efeb47",
   "metadata": {},
   "outputs": [
    {
     "name": "stdout",
     "output_type": "stream",
     "text": [
      "7\n"
     ]
    }
   ],
   "source": [
    "result = max(7,3,5,2)\n",
    "print(result)"
   ]
  },
  {
   "cell_type": "markdown",
   "id": "65342972-358e-4b98-ac29-2723e7fd590a",
   "metadata": {},
   "source": [
    "* eval() 함수는 수학 수식이 문자열 형식으로 들어오면 해당 수식을 계산한 결과를 반환"
   ]
  },
  {
   "cell_type": "code",
   "execution_count": 99,
   "id": "6285f365-da6e-409b-964d-aee5d52e091b",
   "metadata": {},
   "outputs": [
    {
     "name": "stdout",
     "output_type": "stream",
     "text": [
      "56\n"
     ]
    }
   ],
   "source": [
    "result = eval('(3+5) * 7')\n",
    "print(result)"
   ]
  },
  {
   "cell_type": "markdown",
   "id": "cfae0489-9665-4215-880d-feb4a46ecb5d",
   "metadata": {},
   "source": [
    "* sorted() 함수는 iterable 객체가 들어왔을 때, 정렬된 결과를 반환\n",
    "* key 속성으로 정렬 기준을 명시할 수 있으며, reverse 속성으로 정렬된 결과 리스트를 뒤집을지의 여부를 설정할 수 있다."
   ]
  },
  {
   "cell_type": "code",
   "execution_count": 100,
   "id": "1da1c07c-6ba9-480f-b9cb-6e805e50c297",
   "metadata": {},
   "outputs": [
    {
     "name": "stdout",
     "output_type": "stream",
     "text": [
      "[1, 4, 5, 8, 9]\n",
      "[9, 8, 5, 4, 1]\n"
     ]
    }
   ],
   "source": [
    "# 오름차순 정렬\n",
    "result = sorted([9,1,8,5,4])\n",
    "print(result)\n",
    "# 내림차순 정렬\n",
    "result = sorted([9,1,8,5,4], reverse= True)\n",
    "print(result)"
   ]
  },
  {
   "cell_type": "markdown",
   "id": "1b8b76b8-56a6-4681-bf00-775dafb0a8d3",
   "metadata": {},
   "source": [
    "* 리스트의 원소로 리스트나 튜플이 조재할 때 특정한 기준에 따라서 정렬을 수행할 수 있다.\n",
    "* 정렬 기준은 key 속성을 이용해 명시"
   ]
  },
  {
   "cell_type": "code",
   "execution_count": 101,
   "id": "e0e91858-f091-4623-960c-ce6d5b81cc12",
   "metadata": {},
   "outputs": [
    {
     "name": "stdout",
     "output_type": "stream",
     "text": [
      "[('이순신', 75), ('아무개', 50), ('홍길동', 35)]\n"
     ]
    }
   ],
   "source": [
    "result = sorted([('홍길동',35),('이순신',75),('아무개',50)],\n",
    "                key= lambda x: x[1], reverse= True)\n",
    "print(result)"
   ]
  },
  {
   "cell_type": "markdown",
   "id": "e345175d-766f-48e9-9a31-e4b9681e8c0d",
   "metadata": {},
   "source": [
    "* 리스트와 같은 iterable 객체는 기본으로 sort() 함수를 내장하고 있어 굳이 sorted() 함수를 사용하지 않고 sort() 함수를 이용해서 정렬할 수 있다."
   ]
  },
  {
   "cell_type": "code",
   "execution_count": 102,
   "id": "b1e2fbfb-0d07-40cc-8905-2099190dab6a",
   "metadata": {},
   "outputs": [
    {
     "name": "stdout",
     "output_type": "stream",
     "text": [
      "[1, 4, 5, 8, 9]\n"
     ]
    }
   ],
   "source": [
    "data = [9,1,8,5,4]\n",
    "data.sort()\n",
    "print(data)"
   ]
  },
  {
   "cell_type": "markdown",
   "id": "fcc065f0-5a03-43a5-9a6b-8c49f3ce3415",
   "metadata": {},
   "source": [
    "#### itertools\n",
    "* itertools는 파이썬에서 반복되는 데이터를 처리하는 기능을 포함하고 있는 라이브러리이다.\n",
    "* 제공하는 클래스는 매우 다양하지만 코테에서는 permitations, combinations 2가지가 유용하게 쓰인다."
   ]
  },
  {
   "cell_type": "markdown",
   "id": "f0deac0d-b616-46ef-a8cb-d18417b1d445",
   "metadata": {},
   "source": [
    "##### permutations\n",
    "* 리스트와 같은 iterable 객체에서 r개의 데이터를 뽑아 일렬로 나열하는 모든 경우(순열)를 계산해준다."
   ]
  },
  {
   "cell_type": "code",
   "execution_count": 103,
   "id": "9bd19147-b09a-45cf-ac74-9e85bdd5e6de",
   "metadata": {},
   "outputs": [
    {
     "name": "stdout",
     "output_type": "stream",
     "text": [
      "[('A', 'B', 'C'), ('A', 'C', 'B'), ('B', 'A', 'C'), ('B', 'C', 'A'), ('C', 'A', 'B'), ('C', 'B', 'A')]\n"
     ]
    }
   ],
   "source": [
    "from itertools import permutations\n",
    "# 데이터 준비\n",
    "data = ['A','B','C']\n",
    "# 모든 순열 구하기\n",
    "result = list(permutations(data, 3))\n",
    "print(result)"
   ]
  },
  {
   "cell_type": "markdown",
   "id": "0dbe56d9-3239-48a9-b2b8-4a25f3b313fe",
   "metadata": {},
   "source": [
    "##### combinations\n",
    "* 리스트와 같은 iterable 객체에서 r개의 데이터를 뽑아 순서를 고려하지 않고 나열하는 모든 경우(조합)를 계산한다."
   ]
  },
  {
   "cell_type": "code",
   "execution_count": 104,
   "id": "d604db38-b893-4d70-846a-f0d975fe632d",
   "metadata": {},
   "outputs": [
    {
     "name": "stdout",
     "output_type": "stream",
     "text": [
      "[('A', 'B'), ('A', 'C'), ('B', 'C')]\n"
     ]
    }
   ],
   "source": [
    "from itertools import combinations\n",
    "# 데이터 준비\n",
    "data = ['A','B','C']\n",
    "# 2개를 뽑는 모든 조합 구하기\n",
    "result = list(combinations(data, 2))\n",
    "print(result)"
   ]
  },
  {
   "cell_type": "markdown",
   "id": "227543f2-8a09-4836-8b2a-ef44b2fd3e3e",
   "metadata": {},
   "source": [
    "##### product\n",
    "* permutations와 같이 리스트와 같은 iterable 객체에서 r개의 데이터를 뽑아 일렬로 나열하는 모든 경우(순열)를 계산한다.\n",
    "* 다만, 원소를 중복하여 뽑는다.\n",
    "* product 객체를 초기화 할 때는 뽑고자 하는 데이터의 수를 repeat 속성값으로 넣어준다."
   ]
  },
  {
   "cell_type": "code",
   "execution_count": 105,
   "id": "c62a60ac-a9e3-48ea-9975-feac77969c10",
   "metadata": {},
   "outputs": [
    {
     "name": "stdout",
     "output_type": "stream",
     "text": [
      "[('A', 'A'), ('A', 'B'), ('A', 'C'), ('B', 'A'), ('B', 'B'), ('B', 'C'), ('C', 'A'), ('C', 'B'), ('C', 'C')]\n"
     ]
    }
   ],
   "source": [
    "from itertools import product\n",
    "# 데이터 준비\n",
    "data = ['A','B','C']\n",
    "# 2개를 뽑는 모든 순열 구하기(중복 허용)\n",
    "result = list(product(data, repeat= 2))\n",
    "print(result)"
   ]
  },
  {
   "cell_type": "markdown",
   "id": "6053b42f-ac1f-4d2e-acb5-fafd7785d19c",
   "metadata": {},
   "source": [
    "##### combinations_with_replacement\n",
    "* combinations와 같이 리스트와 같은 iterable 객체에서 r개의 데이터를 뽑아 순서를 고려하지 않고 나열하는 모든 경우(조합)를 계산한다.\n",
    "* 다만, 원소를 중복하여 뽑는다."
   ]
  },
  {
   "cell_type": "code",
   "execution_count": 106,
   "id": "20906bfa-7b5c-4f4a-b163-90a71b249b6c",
   "metadata": {},
   "outputs": [
    {
     "name": "stdout",
     "output_type": "stream",
     "text": [
      "[('A', 'A'), ('A', 'B'), ('A', 'C'), ('B', 'B'), ('B', 'C'), ('C', 'C')]\n"
     ]
    }
   ],
   "source": [
    "from itertools import combinations_with_replacement\n",
    "# 데이터 준비\n",
    "data = ['A','B','C']\n",
    "# 2개를 뽑는 모든 조합 구하기(중복 허용)\n",
    "result = list(combinations_with_replacement(data, 2))\n",
    "print(result)"
   ]
  },
  {
   "cell_type": "markdown",
   "id": "22f9df18-224d-40bd-b051-ac73cc4c119a",
   "metadata": {},
   "source": [
    "#### heapq\n",
    "* 파이썬에서는 힙(heap) 기능을 위해 heapq 라이브러리를 제공\n",
    "* heapq 는 다익스트라 최단 경로 알고리즘을 포함해 다양한 알고리즘에서 우선순위 큐 기능을 구현하고자 할 때 사용\n",
    "* 코테 환경에서는 보통 heapq가 빨라서 heapq를 이용\n",
    "* 파이썬의 힙은 최소 힙으로 구성되어 있으므로 단순히 원소를 힙에 전부 넣었다가 빼는 것만으로도 시간 복잡도 O(nlogn)에 오름차순 정렬이 완료된다.\n",
    "* 힙에 원소를 삽입할 때는 heapq.heappush() 메서드를 이용하고, 힙에서 원소를 꺼내고자 할 때는 heapq.heappop() 메서드를 이용한다."
   ]
  },
  {
   "cell_type": "code",
   "execution_count": 107,
   "id": "2c27ab50-9141-45df-8aff-5a4cb9cc2351",
   "metadata": {},
   "outputs": [
    {
     "name": "stdout",
     "output_type": "stream",
     "text": [
      "[0, 1, 2, 3, 4, 5, 6, 7, 8, 9]\n"
     ]
    }
   ],
   "source": [
    "import heapq\n",
    "# heapq를 이용한 힙 정렬 구현\n",
    "def heapsort(iterable) :\n",
    "    h = []\n",
    "    result = []\n",
    "    # 모든 원소를 차례대로 힙에 삽입\n",
    "    for value in iterable :\n",
    "        heapq.heappush(h, value)\n",
    "    # 힙에 삽입된 모든 원소를 차례대로 꺼내어 담기\n",
    "    for i in range(len(h)) :\n",
    "        result.append(heapq.heappop(h))\n",
    "    return result\n",
    "\n",
    "result = heapsort([1,3,5,7,9,2,4,6,8,0])\n",
    "print(result)"
   ]
  },
  {
   "cell_type": "markdown",
   "id": "c4f24d46-eff5-4632-a6f4-24c0d234996c",
   "metadata": {},
   "source": [
    "* 파이썬에서는 최대 힙을 제공하지 않기 때문에 heapq 라이브러리를 이용하여 최대 힙을 구현해야 할 때는 원소의 부호를 임시로 변경하는 방식을 사용"
   ]
  },
  {
   "cell_type": "code",
   "execution_count": 108,
   "id": "c1ac1943-a2b9-40b3-81bc-97bbd37754a6",
   "metadata": {},
   "outputs": [
    {
     "name": "stdout",
     "output_type": "stream",
     "text": [
      "[9, 8, 7, 6, 5, 4, 3, 2, 1, 0]\n"
     ]
    }
   ],
   "source": [
    "import heapq\n",
    "# heapq를 이용한 내림차순 힙 정렬 구현\n",
    "def heapsort(iterable) :\n",
    "    h = []\n",
    "    result = []\n",
    "    # 모든 원소를 차례대로 힙에 삽입\n",
    "    for value in iterable :\n",
    "        heapq.heappush(h, -value)\n",
    "    # 힙에 삽입된 모든 원소를 차례대로 꺼내어 담기\n",
    "    for i in range(len(h)) :\n",
    "        result.append(-heapq.heappop(h))\n",
    "    return result\n",
    "\n",
    "result = heapsort([1,3,5,7,9,2,4,6,8,0])\n",
    "print(result)"
   ]
  },
  {
   "cell_type": "markdown",
   "id": "cbb95027-40a2-4c4d-89fd-14cfec33933d",
   "metadata": {},
   "source": [
    "#### bisect\n",
    "* 파이썬에서는 이진 탐색을 쉽게 구현할 수 있도록 bisect 라이브러리를 제공\n",
    "* 정렬된 배열에서 특정한 원소를 찾아야 할 때 매우 효과적으로 사용된다.\n",
    "* bisect_left(a, x) : 정렬된 순서를 유지하면서 리스트 a에 데이터 x를 삽입할 가장 왼쪽 인덱스를 찾는 메서드\n",
    "* bisect_right(a, x) : 정렬된 순서를 유지하면서 리스트 a에 데이터 x를 삽입할 가장 오른쪽 인덱스를 찾는 메서드"
   ]
  },
  {
   "cell_type": "code",
   "execution_count": 109,
   "id": "69615239-e7ee-464d-9eb1-5ebf5166d163",
   "metadata": {},
   "outputs": [
    {
     "name": "stdout",
     "output_type": "stream",
     "text": [
      "2\n",
      "4\n"
     ]
    }
   ],
   "source": [
    "from bisect import bisect_left, bisect_right\n",
    "\n",
    "a = [1,2,4,4,8]\n",
    "x = 4\n",
    "\n",
    "print(bisect_left(a, x))\n",
    "print(bisect_right(a, x))"
   ]
  },
  {
   "cell_type": "markdown",
   "id": "25508e94-813f-421c-aa67-433182db9e73",
   "metadata": {},
   "source": [
    "* bisect_left, bisect_right 함수는 정렬된 리스트에서 값이 특정 범위에 속하는 원소의 개수를 구하고자 할 때, 효과적으로 사용될 수 있다."
   ]
  },
  {
   "cell_type": "code",
   "execution_count": 110,
   "id": "25def889-a9e8-47aa-8ad3-49e0d032bcb7",
   "metadata": {},
   "outputs": [
    {
     "name": "stdout",
     "output_type": "stream",
     "text": [
      "2\n",
      "6\n"
     ]
    }
   ],
   "source": [
    "from bisect import bisect_left, bisect_right\n",
    "\n",
    "# 값이 [left_value, right_value]인 데이터의 개수를 반환하는 함수\n",
    "def count_by_range(a, left_value, right_value) :\n",
    "    left_index = bisect_left(a, left_value)\n",
    "    right_index = bisect_right(a, right_value)\n",
    "    return right_index - left_index\n",
    "\n",
    "# 리스트 선언\n",
    "a = [1,2,3,3,3,3,4,4,8,9]\n",
    "# 값이 4인 데이터 개수 출력\n",
    "print(count_by_range(a, 4, 4))\n",
    "# 값이 [-1,3] 범위에 있는 데이터 개수 출력\n",
    "print(count_by_range(a, -1, 3))"
   ]
  },
  {
   "cell_type": "markdown",
   "id": "9cf50ca0-419e-4dc7-8331-29f4f75e6c00",
   "metadata": {},
   "source": [
    "#### collections\n",
    "##### deque\n",
    "* deque를 이용해서 큐를 구현(파이썬에 Queue 라이브러리가 있지만 일반적이지 않기 때문에 deque를 이용한다는 점 주의)\n",
    "* 리스트는 데이터 추가 및 삭제 시 가장 뒤쪽 원소를 기준으로 수행되기 때문에 앞쪽에 있는 원소를 처리할 때 많은 시간이 소요될 가능성도 있다.\n",
    "* deque에서는 리스트 자료형과 다르게 인덱싱, 슬라이싱 등의 기능은 사용할 수 없지만 시작 부분 혹은 끝 부분에 데이터를 삽입하거나 삭제할 때는 매우 효과적으로 사용될 수 있다.\n",
    "* deque는 스택이나 큐의 기능을 모두 포함한다고도 볼 수 있기 때문에 스택 혹은 큐 자료구조의 대용으로 사용될 수 있다.\n",
    "* 첫 번째 원소를 제거할 때 popleft()를 사용하며, 마지막 원소를 제거할 때 pop()을 사용\n",
    "* 첫 번째 인덱스에 원소 x를 삽입할 때 appendleft(x)를 사용하며, 마지막 인덱스에 원소를 삽입할 때 append(x)를 사용\n",
    "* deque를 큐 자료구조로 이용할 때, 원소를 삽입할 때는 append()를 사용하고, 원소를 삭제할 때에는 popleft()를 사용하면 먼저 들어온 원소가 항상 먼저 나가게 된다."
   ]
  },
  {
   "cell_type": "code",
   "execution_count": 111,
   "id": "7632c523-6e69-4e5b-a854-fbffb14ddbcd",
   "metadata": {},
   "outputs": [
    {
     "name": "stdout",
     "output_type": "stream",
     "text": [
      "deque([1, 2, 3, 4])\n",
      "deque([1, 2, 3, 4, 5])\n",
      "[1, 2, 3, 4, 5]\n"
     ]
    }
   ],
   "source": [
    "from collections import deque\n",
    "\n",
    "data = deque([2,3,4])\n",
    "data.appendleft(1)\n",
    "print(data)\n",
    "\n",
    "data.append(5)\n",
    "print(data)\n",
    "\n",
    "print(list(data))"
   ]
  },
  {
   "cell_type": "markdown",
   "id": "b0977a2c-0f6b-4b30-9859-297ef4fbda4c",
   "metadata": {},
   "source": [
    "* Counter는 등장 횟수를 세는 기능을 제공\n",
    "* 리스트와 같은 iterable 객체가 주어졌을 때, 해당 객체 내부의 원소가 몇 번씩 등장했는지를 알려준다."
   ]
  },
  {
   "cell_type": "code",
   "execution_count": 112,
   "id": "0b735f41-702e-491d-8866-855ff41cf390",
   "metadata": {},
   "outputs": [
    {
     "name": "stdout",
     "output_type": "stream",
     "text": [
      "collections.Counter['blue']\n",
      "collections.Counter['green']\n",
      "{'red': 2, 'blue': 3, 'green': 1}\n"
     ]
    }
   ],
   "source": [
    "from collections import Counter\n",
    "\n",
    "counter = Counter(['red','blue','red','green','blue','blue'])\n",
    "\n",
    "# 'blue'가 등장한 횟수 출력\n",
    "print(Counter['blue'])\n",
    "# 'green'이 등장한 횟수 출력\n",
    "print(Counter['green'])\n",
    "# 사전 자료형으로 변환\n",
    "print(dict(counter))"
   ]
  },
  {
   "cell_type": "markdown",
   "id": "5d1dc6f1-ecb7-4db4-9665-63fdfe2d8f40",
   "metadata": {},
   "source": [
    "#### math\n",
    "* 자주 사용되는 수학적인 기능을 포함하고 있는 라이브러리\n",
    "* 팩토리얼, 제곱근, 최대공약수 등을 계산해주는 기능을 포함\n",
    "* 수학 계산을 요구하는 문제를 만났을 때 효과적으로 사용 가능"
   ]
  },
  {
   "cell_type": "code",
   "execution_count": 113,
   "id": "db59f0f7-0997-4c3b-ac5d-20d38f9ad890",
   "metadata": {},
   "outputs": [
    {
     "name": "stdout",
     "output_type": "stream",
     "text": [
      "120\n"
     ]
    }
   ],
   "source": [
    "# 팩토리얼 출력\n",
    "import math\n",
    "print(math.factorial(5))"
   ]
  },
  {
   "cell_type": "code",
   "execution_count": 114,
   "id": "4e381be4-36fe-4ea2-834b-d5422c559031",
   "metadata": {},
   "outputs": [
    {
     "name": "stdout",
     "output_type": "stream",
     "text": [
      "2.6457513110645907\n"
     ]
    }
   ],
   "source": [
    "# 제곱근 출력\n",
    "import math\n",
    "print(math.sqrt(7))"
   ]
  },
  {
   "cell_type": "code",
   "execution_count": 115,
   "id": "9525030c-599f-447d-b804-eb51592d928a",
   "metadata": {},
   "outputs": [
    {
     "name": "stdout",
     "output_type": "stream",
     "text": [
      "7\n"
     ]
    }
   ],
   "source": [
    "# 최대공약수 출력\n",
    "import math\n",
    "print(math.gcd(21,14))"
   ]
  },
  {
   "cell_type": "markdown",
   "id": "74605a35-63c8-441f-8278-8fa26d28e83e",
   "metadata": {},
   "source": [
    "* math 라이브러리는 파이(pi)나 자연상수 e를 제공한다."
   ]
  },
  {
   "cell_type": "code",
   "execution_count": 116,
   "id": "298c6698-e4b9-4158-80b0-0c8d9788d0b9",
   "metadata": {},
   "outputs": [
    {
     "name": "stdout",
     "output_type": "stream",
     "text": [
      "3.141592653589793\n",
      "2.718281828459045\n"
     ]
    }
   ],
   "source": [
    "import math\n",
    "# 파이(pi) 출력\n",
    "print(math.pi)\n",
    "# 자연상수 e 출력\n",
    "print(math.e)"
   ]
  }
 ],
 "metadata": {
  "kernelspec": {
   "display_name": "Python 3 (ipykernel)",
   "language": "python",
   "name": "python3"
  },
  "language_info": {
   "codemirror_mode": {
    "name": "ipython",
    "version": 3
   },
   "file_extension": ".py",
   "mimetype": "text/x-python",
   "name": "python",
   "nbconvert_exporter": "python",
   "pygments_lexer": "ipython3",
   "version": "3.10.8"
  }
 },
 "nbformat": 4,
 "nbformat_minor": 5
}
